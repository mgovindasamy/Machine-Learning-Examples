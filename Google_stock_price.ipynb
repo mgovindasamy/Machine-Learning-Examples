{
  "cells": [
    {
      "cell_type": "markdown",
      "metadata": {
        "id": "view-in-github",
        "colab_type": "text"
      },
      "source": [
        "<a href=\"https://colab.research.google.com/github/mgovindasamy/Machine-Learning-Examples/blob/master/Google_stock_price.ipynb\" target=\"_parent\"><img src=\"https://colab.research.google.com/assets/colab-badge.svg\" alt=\"Open In Colab\"/></a>"
      ]
    },
    {
      "cell_type": "code",
      "execution_count": 2,
      "metadata": {
        "colab": {
          "base_uri": "https://localhost:8080/"
        },
        "id": "mfHXZ1wnAUyD",
        "outputId": "4cb0f5b1-079f-4964-c95e-83afe2e8f1e2"
      },
      "outputs": [
        {
          "output_type": "stream",
          "name": "stdout",
          "text": [
            "Requirement already satisfied: download in /usr/local/lib/python3.7/dist-packages (0.3.5)\n",
            "Requirement already satisfied: requests in /usr/local/lib/python3.7/dist-packages (from download) (2.23.0)\n",
            "Requirement already satisfied: tqdm in /usr/local/lib/python3.7/dist-packages (from download) (4.64.0)\n",
            "Requirement already satisfied: six in /usr/local/lib/python3.7/dist-packages (from download) (1.15.0)\n",
            "Requirement already satisfied: certifi>=2017.4.17 in /usr/local/lib/python3.7/dist-packages (from requests->download) (2021.10.8)\n",
            "Requirement already satisfied: idna<3,>=2.5 in /usr/local/lib/python3.7/dist-packages (from requests->download) (2.10)\n",
            "Requirement already satisfied: chardet<4,>=3.0.2 in /usr/local/lib/python3.7/dist-packages (from requests->download) (3.0.4)\n",
            "Requirement already satisfied: urllib3!=1.25.0,!=1.25.1,<1.26,>=1.21.1 in /usr/local/lib/python3.7/dist-packages (from requests->download) (1.24.3)\n"
          ]
        }
      ],
      "source": [
        "!pip install download"
      ]
    },
    {
      "cell_type": "code",
      "source": [
        "import numpy as np \n",
        "import pandas as pd \n",
        "import matplotlib.pyplot as plt \n",
        "from sklearn.preprocessing import MinMaxScaler\n",
        "from keras.models import Sequential\n",
        "from keras.layers import Dense,LSTM,Dropout\n",
        "from download import download"
      ],
      "metadata": {
        "id": "Y0EeTi-5AYKj"
      },
      "execution_count": 3,
      "outputs": []
    },
    {
      "cell_type": "code",
      "execution_count": 4,
      "metadata": {
        "colab": {
          "base_uri": "https://localhost:8080/",
          "height": 206
        },
        "id": "0C3ZyguYAUyH",
        "outputId": "1adb0bab-9fe6-4ea8-ca94-d0851fbfc2de"
      },
      "outputs": [
        {
          "output_type": "execute_result",
          "data": {
            "text/plain": [
              "       Date    Open    High     Low   Close      Volume\n",
              "0  1/3/2012  325.25  332.83  324.97  663.59   7,380,500\n",
              "1  1/4/2012  331.27  333.87  329.08  666.45   5,749,400\n",
              "2  1/5/2012  329.83  330.75  326.89  657.21   6,590,300\n",
              "3  1/6/2012  328.34  328.77  323.68  648.24   5,405,900\n",
              "4  1/9/2012  322.04  322.29  309.46  620.76  11,688,800"
            ],
            "text/html": [
              "\n",
              "  <div id=\"df-0f77d14a-4bff-4f0b-adf2-eba49f7b10c4\">\n",
              "    <div class=\"colab-df-container\">\n",
              "      <div>\n",
              "<style scoped>\n",
              "    .dataframe tbody tr th:only-of-type {\n",
              "        vertical-align: middle;\n",
              "    }\n",
              "\n",
              "    .dataframe tbody tr th {\n",
              "        vertical-align: top;\n",
              "    }\n",
              "\n",
              "    .dataframe thead th {\n",
              "        text-align: right;\n",
              "    }\n",
              "</style>\n",
              "<table border=\"1\" class=\"dataframe\">\n",
              "  <thead>\n",
              "    <tr style=\"text-align: right;\">\n",
              "      <th></th>\n",
              "      <th>Date</th>\n",
              "      <th>Open</th>\n",
              "      <th>High</th>\n",
              "      <th>Low</th>\n",
              "      <th>Close</th>\n",
              "      <th>Volume</th>\n",
              "    </tr>\n",
              "  </thead>\n",
              "  <tbody>\n",
              "    <tr>\n",
              "      <th>0</th>\n",
              "      <td>1/3/2012</td>\n",
              "      <td>325.25</td>\n",
              "      <td>332.83</td>\n",
              "      <td>324.97</td>\n",
              "      <td>663.59</td>\n",
              "      <td>7,380,500</td>\n",
              "    </tr>\n",
              "    <tr>\n",
              "      <th>1</th>\n",
              "      <td>1/4/2012</td>\n",
              "      <td>331.27</td>\n",
              "      <td>333.87</td>\n",
              "      <td>329.08</td>\n",
              "      <td>666.45</td>\n",
              "      <td>5,749,400</td>\n",
              "    </tr>\n",
              "    <tr>\n",
              "      <th>2</th>\n",
              "      <td>1/5/2012</td>\n",
              "      <td>329.83</td>\n",
              "      <td>330.75</td>\n",
              "      <td>326.89</td>\n",
              "      <td>657.21</td>\n",
              "      <td>6,590,300</td>\n",
              "    </tr>\n",
              "    <tr>\n",
              "      <th>3</th>\n",
              "      <td>1/6/2012</td>\n",
              "      <td>328.34</td>\n",
              "      <td>328.77</td>\n",
              "      <td>323.68</td>\n",
              "      <td>648.24</td>\n",
              "      <td>5,405,900</td>\n",
              "    </tr>\n",
              "    <tr>\n",
              "      <th>4</th>\n",
              "      <td>1/9/2012</td>\n",
              "      <td>322.04</td>\n",
              "      <td>322.29</td>\n",
              "      <td>309.46</td>\n",
              "      <td>620.76</td>\n",
              "      <td>11,688,800</td>\n",
              "    </tr>\n",
              "  </tbody>\n",
              "</table>\n",
              "</div>\n",
              "      <button class=\"colab-df-convert\" onclick=\"convertToInteractive('df-0f77d14a-4bff-4f0b-adf2-eba49f7b10c4')\"\n",
              "              title=\"Convert this dataframe to an interactive table.\"\n",
              "              style=\"display:none;\">\n",
              "        \n",
              "  <svg xmlns=\"http://www.w3.org/2000/svg\" height=\"24px\"viewBox=\"0 0 24 24\"\n",
              "       width=\"24px\">\n",
              "    <path d=\"M0 0h24v24H0V0z\" fill=\"none\"/>\n",
              "    <path d=\"M18.56 5.44l.94 2.06.94-2.06 2.06-.94-2.06-.94-.94-2.06-.94 2.06-2.06.94zm-11 1L8.5 8.5l.94-2.06 2.06-.94-2.06-.94L8.5 2.5l-.94 2.06-2.06.94zm10 10l.94 2.06.94-2.06 2.06-.94-2.06-.94-.94-2.06-.94 2.06-2.06.94z\"/><path d=\"M17.41 7.96l-1.37-1.37c-.4-.4-.92-.59-1.43-.59-.52 0-1.04.2-1.43.59L10.3 9.45l-7.72 7.72c-.78.78-.78 2.05 0 2.83L4 21.41c.39.39.9.59 1.41.59.51 0 1.02-.2 1.41-.59l7.78-7.78 2.81-2.81c.8-.78.8-2.07 0-2.86zM5.41 20L4 18.59l7.72-7.72 1.47 1.35L5.41 20z\"/>\n",
              "  </svg>\n",
              "      </button>\n",
              "      \n",
              "  <style>\n",
              "    .colab-df-container {\n",
              "      display:flex;\n",
              "      flex-wrap:wrap;\n",
              "      gap: 12px;\n",
              "    }\n",
              "\n",
              "    .colab-df-convert {\n",
              "      background-color: #E8F0FE;\n",
              "      border: none;\n",
              "      border-radius: 50%;\n",
              "      cursor: pointer;\n",
              "      display: none;\n",
              "      fill: #1967D2;\n",
              "      height: 32px;\n",
              "      padding: 0 0 0 0;\n",
              "      width: 32px;\n",
              "    }\n",
              "\n",
              "    .colab-df-convert:hover {\n",
              "      background-color: #E2EBFA;\n",
              "      box-shadow: 0px 1px 2px rgba(60, 64, 67, 0.3), 0px 1px 3px 1px rgba(60, 64, 67, 0.15);\n",
              "      fill: #174EA6;\n",
              "    }\n",
              "\n",
              "    [theme=dark] .colab-df-convert {\n",
              "      background-color: #3B4455;\n",
              "      fill: #D2E3FC;\n",
              "    }\n",
              "\n",
              "    [theme=dark] .colab-df-convert:hover {\n",
              "      background-color: #434B5C;\n",
              "      box-shadow: 0px 1px 3px 1px rgba(0, 0, 0, 0.15);\n",
              "      filter: drop-shadow(0px 1px 2px rgba(0, 0, 0, 0.3));\n",
              "      fill: #FFFFFF;\n",
              "    }\n",
              "  </style>\n",
              "\n",
              "      <script>\n",
              "        const buttonEl =\n",
              "          document.querySelector('#df-0f77d14a-4bff-4f0b-adf2-eba49f7b10c4 button.colab-df-convert');\n",
              "        buttonEl.style.display =\n",
              "          google.colab.kernel.accessAllowed ? 'block' : 'none';\n",
              "\n",
              "        async function convertToInteractive(key) {\n",
              "          const element = document.querySelector('#df-0f77d14a-4bff-4f0b-adf2-eba49f7b10c4');\n",
              "          const dataTable =\n",
              "            await google.colab.kernel.invokeFunction('convertToInteractive',\n",
              "                                                     [key], {});\n",
              "          if (!dataTable) return;\n",
              "\n",
              "          const docLinkHtml = 'Like what you see? Visit the ' +\n",
              "            '<a target=\"_blank\" href=https://colab.research.google.com/notebooks/data_table.ipynb>data table notebook</a>'\n",
              "            + ' to learn more about interactive tables.';\n",
              "          element.innerHTML = '';\n",
              "          dataTable['output_type'] = 'display_data';\n",
              "          await google.colab.output.renderOutput(dataTable, element);\n",
              "          const docLink = document.createElement('div');\n",
              "          docLink.innerHTML = docLinkHtml;\n",
              "          element.appendChild(docLink);\n",
              "        }\n",
              "      </script>\n",
              "    </div>\n",
              "  </div>\n",
              "  "
            ]
          },
          "metadata": {},
          "execution_count": 4
        }
      ],
      "source": [
        "data = pd.read_csv('https://raw.githubusercontent.com/mgovindasamy/Machine-Learning-Examples/master/Google_train_data.csv')\n",
        "data.head()"
      ]
    },
    {
      "cell_type": "code",
      "execution_count": 5,
      "metadata": {
        "colab": {
          "base_uri": "https://localhost:8080/"
        },
        "id": "QQPvQz_5AUyI",
        "outputId": "12f67569-7de7-489a-8daf-9035a61b9b76"
      },
      "outputs": [
        {
          "output_type": "stream",
          "name": "stdout",
          "text": [
            "<class 'pandas.core.frame.DataFrame'>\n",
            "RangeIndex: 1258 entries, 0 to 1257\n",
            "Data columns (total 6 columns):\n",
            " #   Column  Non-Null Count  Dtype  \n",
            "---  ------  --------------  -----  \n",
            " 0   Date    1258 non-null   object \n",
            " 1   Open    1258 non-null   float64\n",
            " 2   High    1258 non-null   float64\n",
            " 3   Low     1258 non-null   float64\n",
            " 4   Close   1258 non-null   object \n",
            " 5   Volume  1258 non-null   object \n",
            "dtypes: float64(3), object(3)\n",
            "memory usage: 59.1+ KB\n"
          ]
        }
      ],
      "source": [
        "data.info()"
      ]
    },
    {
      "cell_type": "code",
      "execution_count": 6,
      "metadata": {
        "id": "j_N_oAwLAUyJ"
      },
      "outputs": [],
      "source": [
        "data[\"Close\"]=pd.to_numeric(data.Close,errors='coerce')\n",
        "data = data.dropna()\n",
        "trainData = data.iloc[:,4:5].values"
      ]
    },
    {
      "cell_type": "code",
      "execution_count": 7,
      "metadata": {
        "colab": {
          "base_uri": "https://localhost:8080/"
        },
        "id": "nj7ZJwvDAUyK",
        "outputId": "3f9832b5-c59d-4836-9bf2-6354c86b711f"
      },
      "outputs": [
        {
          "output_type": "stream",
          "name": "stdout",
          "text": [
            "<class 'pandas.core.frame.DataFrame'>\n",
            "Int64Index: 1149 entries, 0 to 1257\n",
            "Data columns (total 6 columns):\n",
            " #   Column  Non-Null Count  Dtype  \n",
            "---  ------  --------------  -----  \n",
            " 0   Date    1149 non-null   object \n",
            " 1   Open    1149 non-null   float64\n",
            " 2   High    1149 non-null   float64\n",
            " 3   Low     1149 non-null   float64\n",
            " 4   Close   1149 non-null   float64\n",
            " 5   Volume  1149 non-null   object \n",
            "dtypes: float64(4), object(2)\n",
            "memory usage: 62.8+ KB\n"
          ]
        }
      ],
      "source": [
        "data.info()"
      ]
    },
    {
      "cell_type": "code",
      "execution_count": 8,
      "metadata": {
        "colab": {
          "base_uri": "https://localhost:8080/"
        },
        "id": "ZxTHEZroAUyK",
        "outputId": "d4849057-ad68-499b-8154-ca2e15090dfe"
      },
      "outputs": [
        {
          "output_type": "execute_result",
          "data": {
            "text/plain": [
              "(1149, 1)"
            ]
          },
          "metadata": {},
          "execution_count": 8
        }
      ],
      "source": [
        "sc = MinMaxScaler(feature_range=(0,1))\n",
        "trainData = sc.fit_transform(trainData)\n",
        "trainData.shape"
      ]
    },
    {
      "cell_type": "code",
      "execution_count": 9,
      "metadata": {
        "id": "Q7zo37TGAUyL"
      },
      "outputs": [],
      "source": [
        "X_train = []\n",
        "y_train = []\n",
        "\n",
        "for i in range (60,1149): #60 : timestep // 1149 : length of the data\n",
        "    X_train.append(trainData[i-60:i,0]) \n",
        "    y_train.append(trainData[i,0])\n",
        "\n",
        "X_train,y_train = np.array(X_train),np.array(y_train)"
      ]
    },
    {
      "cell_type": "code",
      "execution_count": 10,
      "metadata": {
        "colab": {
          "base_uri": "https://localhost:8080/"
        },
        "id": "htqfWlS6AUyL",
        "outputId": "2c952964-f417-4877-ca48-5cfa4d455e9f"
      },
      "outputs": [
        {
          "output_type": "execute_result",
          "data": {
            "text/plain": [
              "(1089, 60, 1)"
            ]
          },
          "metadata": {},
          "execution_count": 10
        }
      ],
      "source": [
        "X_train = np.reshape(X_train,(X_train.shape[0],X_train.shape[1],1)) #adding the batch_size axis\n",
        "X_train.shape"
      ]
    },
    {
      "cell_type": "code",
      "execution_count": 11,
      "metadata": {
        "id": "VXscz0_8AUyM"
      },
      "outputs": [],
      "source": [
        "model = Sequential()\n",
        "\n",
        "model.add(LSTM(units=100, return_sequences = True, input_shape =(X_train.shape[1],1)))\n",
        "model.add(Dropout(0.2))\n",
        "\n",
        "model.add(LSTM(units=100, return_sequences = True))\n",
        "model.add(Dropout(0.2))\n",
        "\n",
        "model.add(LSTM(units=100, return_sequences = True))\n",
        "model.add(Dropout(0.2))\n",
        "\n",
        "model.add(LSTM(units=100, return_sequences = False))\n",
        "model.add(Dropout(0.2))\n",
        "\n",
        "model.add(Dense(units =1))\n",
        "model.compile(optimizer='adam',loss=\"mean_squared_error\")"
      ]
    },
    {
      "cell_type": "code",
      "execution_count": 12,
      "metadata": {
        "colab": {
          "base_uri": "https://localhost:8080/"
        },
        "id": "sQy7q9ubAUyN",
        "outputId": "0253a053-dbf8-454b-fd5f-9c1a65b95e37"
      },
      "outputs": [
        {
          "output_type": "stream",
          "name": "stdout",
          "text": [
            "Epoch 1/20\n",
            "35/35 - 15s - loss: 0.0372 - 15s/epoch - 416ms/step\n",
            "Epoch 2/20\n",
            "35/35 - 7s - loss: 0.0131 - 7s/epoch - 195ms/step\n",
            "Epoch 3/20\n",
            "35/35 - 7s - loss: 0.0094 - 7s/epoch - 194ms/step\n",
            "Epoch 4/20\n",
            "35/35 - 7s - loss: 0.0079 - 7s/epoch - 193ms/step\n",
            "Epoch 5/20\n",
            "35/35 - 7s - loss: 0.0070 - 7s/epoch - 193ms/step\n",
            "Epoch 6/20\n",
            "35/35 - 7s - loss: 0.0069 - 7s/epoch - 193ms/step\n",
            "Epoch 7/20\n",
            "35/35 - 7s - loss: 0.0072 - 7s/epoch - 195ms/step\n",
            "Epoch 8/20\n",
            "35/35 - 7s - loss: 0.0063 - 7s/epoch - 193ms/step\n",
            "Epoch 9/20\n",
            "35/35 - 7s - loss: 0.0064 - 7s/epoch - 196ms/step\n",
            "Epoch 10/20\n",
            "35/35 - 7s - loss: 0.0063 - 7s/epoch - 196ms/step\n",
            "Epoch 11/20\n",
            "35/35 - 7s - loss: 0.0062 - 7s/epoch - 210ms/step\n",
            "Epoch 12/20\n",
            "35/35 - 7s - loss: 0.0063 - 7s/epoch - 192ms/step\n",
            "Epoch 13/20\n",
            "35/35 - 7s - loss: 0.0059 - 7s/epoch - 194ms/step\n",
            "Epoch 14/20\n",
            "35/35 - 7s - loss: 0.0054 - 7s/epoch - 193ms/step\n",
            "Epoch 15/20\n",
            "35/35 - 7s - loss: 0.0054 - 7s/epoch - 193ms/step\n",
            "Epoch 16/20\n",
            "35/35 - 7s - loss: 0.0054 - 7s/epoch - 190ms/step\n",
            "Epoch 17/20\n",
            "35/35 - 7s - loss: 0.0050 - 7s/epoch - 191ms/step\n",
            "Epoch 18/20\n",
            "35/35 - 7s - loss: 0.0048 - 7s/epoch - 191ms/step\n",
            "Epoch 19/20\n",
            "35/35 - 7s - loss: 0.0045 - 7s/epoch - 190ms/step\n",
            "Epoch 20/20\n",
            "35/35 - 7s - loss: 0.0045 - 7s/epoch - 191ms/step\n"
          ]
        }
      ],
      "source": [
        "hist = model.fit(X_train, y_train, epochs = 20, batch_size = 32, verbose=2)"
      ]
    },
    {
      "cell_type": "code",
      "execution_count": 13,
      "metadata": {
        "colab": {
          "base_uri": "https://localhost:8080/",
          "height": 295
        },
        "id": "Hirt_CvtAUyR",
        "outputId": "8f6a930c-e095-46b9-d02e-dee481fe7b12"
      },
      "outputs": [
        {
          "output_type": "display_data",
          "data": {
            "text/plain": [
              "<Figure size 432x288 with 1 Axes>"
            ],
            "image/png": "[encoded data removed]"
          },
          "metadata": {
            "needs_background": "light"
          }
        }
      ],
      "source": [
        "plt.plot(hist.history['loss'])\n",
        "plt.title('Training model loss')\n",
        "plt.ylabel('loss')\n",
        "plt.xlabel('epoch')\n",
        "plt.legend(['train'], loc='upper left')\n",
        "plt.show()"
      ]
    },
    {
      "cell_type": "code",
      "execution_count": 14,
      "metadata": {
        "colab": {
          "base_uri": "https://localhost:8080/"
        },
        "id": "B2P8uSRyAUyS",
        "outputId": "e9990aa2-a902-4d4c-985d-7baf014925ae"
      },
      "outputs": [
        {
          "output_type": "execute_result",
          "data": {
            "text/plain": [
              "(192, 60, 1)"
            ]
          },
          "metadata": {},
          "execution_count": 14
        }
      ],
      "source": [
        "testData = pd.read_csv('https://raw.githubusercontent.com/mgovindasamy/Machine-Learning-Examples/master/Google_test_data.csv')\n",
        "testData[\"Close\"]=pd.to_numeric(testData.Close,errors='coerce')\n",
        "testData = testData.dropna()\n",
        "testData = testData.iloc[:,4:5]\n",
        "y_test = testData.iloc[60:,0:].values \n",
        "#input array for the model\n",
        "inputClosing = testData.iloc[:,0:].values \n",
        "inputClosing_scaled = sc.transform(inputClosing)\n",
        "inputClosing_scaled.shape\n",
        "X_test = []\n",
        "length = len(testData)\n",
        "timestep = 60\n",
        "for i in range(timestep,length):  \n",
        "    X_test.append(inputClosing_scaled[i-timestep:i,0])\n",
        "X_test = np.array(X_test)\n",
        "X_test = np.reshape(X_test,(X_test.shape[0],X_test.shape[1],1))\n",
        "X_test.shape"
      ]
    },
    {
      "cell_type": "code",
      "execution_count": 15,
      "metadata": {
        "colab": {
          "base_uri": "https://localhost:8080/"
        },
        "id": "9MAPpeJhAUyT",
        "outputId": "bed10b86-0de1-4e02-9bce-a89b3a5bb22f"
      },
      "outputs": [
        {
          "output_type": "execute_result",
          "data": {
            "text/plain": [
              "array([[1.121867 ],\n",
              "       [1.1254525],\n",
              "       [1.1379336],\n",
              "       [1.156189 ],\n",
              "       [1.170023 ],\n",
              "       [1.1681348],\n",
              "       [1.1518767],\n",
              "       [1.1311462],\n",
              "       [1.1189042],\n",
              "       [1.1171279],\n",
              "       [1.111914 ],\n",
              "       [1.1015447],\n",
              "       [1.0921944],\n",
              "       [1.0837173],\n",
              "       [1.083022 ],\n",
              "       [1.0892333],\n",
              "       [1.1095502],\n",
              "       [1.1402476],\n",
              "       [1.1739855],\n",
              "       [1.2059332],\n",
              "       [1.2157682],\n",
              "       [1.2074656],\n",
              "       [1.1815414],\n",
              "       [1.1481047],\n",
              "       [1.120328 ],\n",
              "       [1.1069276],\n",
              "       [1.1068963],\n",
              "       [1.1100422],\n",
              "       [1.1048436],\n",
              "       [1.0945225],\n",
              "       [1.0825723],\n",
              "       [1.0689718],\n",
              "       [1.0484889],\n",
              "       [1.0233893],\n",
              "       [1.0147766],\n",
              "       [1.0276254],\n",
              "       [1.0532627],\n",
              "       [1.0806751],\n",
              "       [1.1048638],\n",
              "       [1.1151241],\n",
              "       [1.1249672],\n",
              "       [1.1380534],\n",
              "       [1.1542656],\n",
              "       [1.1694654],\n",
              "       [1.1790177],\n",
              "       [1.1782632],\n",
              "       [1.1657369],\n",
              "       [1.1551185],\n",
              "       [1.1527294],\n",
              "       [1.1600161],\n",
              "       [1.175103 ],\n",
              "       [1.1850513],\n",
              "       [1.1871212],\n",
              "       [1.1828058],\n",
              "       [1.1800909],\n",
              "       [1.1757152],\n",
              "       [1.1667271],\n",
              "       [1.1625494],\n",
              "       [1.1728362],\n",
              "       [1.1929146],\n",
              "       [1.2207493],\n",
              "       [1.2529724],\n",
              "       [1.2736908],\n",
              "       [1.2737525],\n",
              "       [1.2567185],\n",
              "       [1.2322443],\n",
              "       [1.21644  ],\n",
              "       [1.2127913],\n",
              "       [1.2184702],\n",
              "       [1.2260555],\n",
              "       [1.232892 ],\n",
              "       [1.2364433],\n",
              "       [1.231953 ],\n",
              "       [1.2252119],\n",
              "       [1.219752 ],\n",
              "       [1.2184703],\n",
              "       [1.2211672],\n",
              "       [1.2270159],\n",
              "       [1.239815 ],\n",
              "       [1.2586434],\n",
              "       [1.2823495],\n",
              "       [1.3041245],\n",
              "       [1.3147731],\n",
              "       [1.3133891],\n",
              "       [1.3140911],\n",
              "       [1.325359 ],\n",
              "       [1.3436177],\n",
              "       [1.3593413],\n",
              "       [1.3673996],\n",
              "       [1.3676679],\n",
              "       [1.3672497],\n",
              "       [1.3760078],\n",
              "       [1.3939737],\n",
              "       [1.4060297],\n",
              "       [1.4035158],\n",
              "       [1.3872452],\n",
              "       [1.3616207],\n",
              "       [1.3338561],\n",
              "       [1.3124373],\n",
              "       [1.3071516],\n",
              "       [1.3177544],\n",
              "       [1.3384844],\n",
              "       [1.3637742],\n",
              "       [1.3842788],\n",
              "       [1.3949118],\n",
              "       [1.3942844],\n",
              "       [1.3878056],\n",
              "       [1.3808186],\n",
              "       [1.3799087],\n",
              "       [1.3855214],\n",
              "       [1.3959993],\n",
              "       [1.410118 ],\n",
              "       [1.4238085],\n",
              "       [1.4376752],\n",
              "       [1.4545151],\n",
              "       [1.4680941],\n",
              "       [1.4775139],\n",
              "       [1.4850862],\n",
              "       [1.4955312],\n",
              "       [1.4734595],\n",
              "       [1.418474 ],\n",
              "       [1.351583 ],\n",
              "       [1.3011398],\n",
              "       [1.2778059],\n",
              "       [1.27361  ],\n",
              "       [1.2779723],\n",
              "       [1.283922 ],\n",
              "       [1.2897575],\n",
              "       [1.2855356],\n",
              "       [1.2697319],\n",
              "       [1.2620969],\n",
              "       [1.2718323],\n",
              "       [1.2890971],\n",
              "       [1.298325 ],\n",
              "       [1.2997146],\n",
              "       [1.2971826],\n",
              "       [1.2906972],\n",
              "       [1.2803136],\n",
              "       [1.2691292],\n",
              "       [1.2548993],\n",
              "       [1.240488 ],\n",
              "       [1.2250458],\n",
              "       [1.1919149],\n",
              "       [1.1518115],\n",
              "       [1.1140639],\n",
              "       [1.08665  ],\n",
              "       [1.0781449],\n",
              "       [1.0904256],\n",
              "       [1.115674 ],\n",
              "       [1.1435272],\n",
              "       [1.1696223],\n",
              "       [1.1894127],\n",
              "       [1.2030244],\n",
              "       [1.21389  ],\n",
              "       [1.2220802],\n",
              "       [1.2294452],\n",
              "       [1.2384051],\n",
              "       [1.2457769],\n",
              "       [1.2413428],\n",
              "       [1.2244327],\n",
              "       [1.2006569],\n",
              "       [1.1787655],\n",
              "       [1.1683497],\n",
              "       [1.173472 ],\n",
              "       [1.192182 ],\n",
              "       [1.2194225],\n",
              "       [1.2427139],\n",
              "       [1.2585285],\n",
              "       [1.2709515],\n",
              "       [1.2818246],\n",
              "       [1.290471 ],\n",
              "       [1.2972935],\n",
              "       [1.3026245],\n",
              "       [1.303784 ],\n",
              "       [1.3008455],\n",
              "       [1.2907181],\n",
              "       [1.2786019],\n",
              "       [1.2709218],\n",
              "       [1.2665524],\n",
              "       [1.2626886],\n",
              "       [1.2933857],\n",
              "       [1.350396 ],\n",
              "       [1.4074627],\n",
              "       [1.4442208],\n",
              "       [1.4540427],\n",
              "       [1.4388372],\n",
              "       [1.397308 ],\n",
              "       [1.3505034],\n",
              "       [1.3143325],\n",
              "       [1.3036646],\n",
              "       [1.3098099],\n",
              "       [1.3188169]], dtype=float32)"
            ]
          },
          "metadata": {},
          "execution_count": 15
        }
      ],
      "source": [
        "y_pred = model.predict(X_test)\n",
        "y_pred"
      ]
    },
    {
      "cell_type": "code",
      "execution_count": 16,
      "metadata": {
        "id": "MapzmPFJAUyT"
      },
      "outputs": [],
      "source": [
        "predicted_price = sc.inverse_transform(y_pred)"
      ]
    },
    {
      "cell_type": "code",
      "execution_count": 17,
      "metadata": {
        "colab": {
          "base_uri": "https://localhost:8080/",
          "height": 295
        },
        "id": "Q4sXvY2OAUyT",
        "outputId": "2dc763a7-1b58-452f-f933-6da12d7698a0"
      },
      "outputs": [
        {
          "output_type": "display_data",
          "data": {
            "text/plain": [
              "<Figure size 432x288 with 1 Axes>"
            ],
            "image/png": "[encoded data removed]"
          },
          "metadata": {
            "needs_background": "light"
          }
        }
      ],
      "source": [
        "plt.plot(y_test, color = 'red', label = 'Actual Stock Price')\n",
        "plt.plot(predicted_price, color = 'green', label = 'Predicted Stock Price')\n",
        "plt.title('Google stock price prediction')\n",
        "plt.xlabel('Time')\n",
        "plt.ylabel('Stock Price')\n",
        "plt.legend()\n",
        "plt.show()"
      ]
    },
    {
      "cell_type": "code",
      "execution_count": null,
      "metadata": {
        "id": "4DN0S7dVAUyU"
      },
      "outputs": [],
      "source": [
        ""
      ]
    }
  ],
  "metadata": {
    "kernelspec": {
      "display_name": "Python 3",
      "language": "python",
      "name": "python3"
    },
    "language_info": {
      "codemirror_mode": {
        "name": "ipython",
        "version": 3
      },
      "file_extension": ".py",
      "mimetype": "text/x-python",
      "name": "python",
      "nbconvert_exporter": "python",
      "pygments_lexer": "ipython3",
      "version": "3.7.6"
    },
    "colab": {
      "name": "Google stock price.ipynb",
      "provenance": [],
      "include_colab_link": true
    }
  },
  "nbformat": 4,
  "nbformat_minor": 0
}