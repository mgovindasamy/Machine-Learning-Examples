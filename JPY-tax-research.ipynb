{
  "nbformat": 4,
  "nbformat_minor": 0,
  "metadata": {
    "colab": {
      "name": "Untitled4.ipynb",
      "provenance": [],
      "authorship_tag": "ABX9TyOX5EUzhwoZ0Id9XDjA3U3y",
      "include_colab_link": true
    },
    "kernelspec": {
      "name": "python3",
      "display_name": "Python 3"
    },
    "language_info": {
      "name": "python"
    }
  },
  "cells": [
    {
      "cell_type": "markdown",
      "metadata": {
        "id": "view-in-github",
        "colab_type": "text"
      },
      "source": [
        "<a href=\"https://colab.research.google.com/github/mgovindasamy/Machine-Learning-Examples/blob/master/JPY-tax-research.ipynb\" target=\"_parent\"><img src=\"https://colab.research.google.com/assets/colab-badge.svg\" alt=\"Open In Colab\"/></a>"
      ]
    },
    {
      "cell_type": "code",
      "execution_count": 1,
      "metadata": {
        "id": "RAltxe3W3C7K",
        "outputId": "91c5c105-bcf5-4be6-8f2b-e98149a6a60e",
        "colab": {
          "base_uri": "https://localhost:8080/"
        }
      },
      "outputs": [
        {
          "output_type": "stream",
          "name": "stdout",
          "text": [
            "Collecting download\n",
            "  Downloading download-0.3.5-py3-none-any.whl (8.8 kB)\n",
            "Requirement already satisfied: requests in /usr/local/lib/python3.7/dist-packages (from download) (2.23.0)\n",
            "Requirement already satisfied: tqdm in /usr/local/lib/python3.7/dist-packages (from download) (4.64.0)\n",
            "Requirement already satisfied: six in /usr/local/lib/python3.7/dist-packages (from download) (1.15.0)\n",
            "Requirement already satisfied: idna<3,>=2.5 in /usr/local/lib/python3.7/dist-packages (from requests->download) (2.10)\n",
            "Requirement already satisfied: certifi>=2017.4.17 in /usr/local/lib/python3.7/dist-packages (from requests->download) (2021.10.8)\n",
            "Requirement already satisfied: urllib3!=1.25.0,!=1.25.1,<1.26,>=1.21.1 in /usr/local/lib/python3.7/dist-packages (from requests->download) (1.24.3)\n",
            "Requirement already satisfied: chardet<4,>=3.0.2 in /usr/local/lib/python3.7/dist-packages (from requests->download) (3.0.4)\n",
            "Installing collected packages: download\n",
            "Successfully installed download-0.3.5\n"
          ]
        }
      ],
      "source": [
        "!pip install download"
      ]
    },
    {
      "cell_type": "code",
      "source": [
        "import numpy as np \n",
        "import pandas as pd \n",
        "import matplotlib.pyplot as plt \n",
        "from sklearn.preprocessing import MinMaxScaler\n",
        "from keras.models import Sequential\n",
        "from keras.layers import Dense,LSTM,Dropout\n",
        "from download import download"
      ],
      "metadata": {
        "id": "MevqT5-n3SBk"
      },
      "execution_count": null,
      "outputs": []
    },
    {
      "cell_type": "code",
      "source": [
        "data = pd.read_csv('https://raw.githubusercontent.com/mgovindasamy/Machine-Learning-Examples/master/Google_train_data.csv')\n",
        "data.head()"
      ],
      "metadata": {
        "id": "F_YyCkhM3Xq6"
      },
      "execution_count": null,
      "outputs": []
    },
    {
      "cell_type": "markdown",
      "source": [
        "These Python technical indicators are popularly used in the markets to study the price movement, so we will be adding the following features in our research:\n",
        "*   Commodity Channel Index\n",
        "*   Ease of Movement\n",
        "*   Moving Average\n",
        "*   Rate of Change\n",
        "*   Bollinger Bands\n",
        "*   Force Index\n"
      ],
      "metadata": {
        "id": "NMh-Nq1j3iTN"
      }
    },
    {
      "cell_type": "markdown",
      "source": [
        "Formula for the Commodity Channel Index\n",
        "The formula for CCI is given by:\n",
        "\n",
        "CCI = (Typical price – MA of Typical price) / (0.015 * mean deviation of Typical price)\n",
        "0.015 is Lambert's constant."
      ],
      "metadata": {
        "id": "_2WSJxgN4A-6"
      }
    },
    {
      "cell_type": "markdown",
      "source": [
        "Estimation\n",
        "To calculate the EMV we first calculate the distance moved. It is given by:\n",
        "\n",
        "Distance moved = ((Current High + Current Low)/2 - (Prior High + Prior Low)/2)\n"
      ],
      "metadata": {
        "id": "adjj7wN34Hxw"
      }
    },
    {
      "cell_type": "markdown",
      "source": [
        "To compute the 20-day EMA, we first compute the very first EMA value using a simple moving average. Then we calculate the multiplier, and thereafter to compute the second EMA value we use the multiplier and the previous day EMA. This formula is used to compute the subsequent EMA values.\n",
        "\n",
        "SMA: 20 period sum / 20\n",
        "Multiplier: (2 / (Time periods + 1)) = (2 / (20 + 1)) = 9.52%\n",
        "EMA: {Close price - EMA(previous day)} x multiplier + EMA(previous day)."
      ],
      "metadata": {
        "id": "ZZTB6QFR4RpK"
      }
    },
    {
      "cell_type": "markdown",
      "source": [
        "Estimation\n",
        "ROC = [(Close price today - Close price “n” day’s ago) / Close price “n” day’s ago))]"
      ],
      "metadata": {
        "id": "XaBLfJE_4dfK"
      }
    },
    {
      "cell_type": "markdown",
      "source": [
        "Bollinger bands expand and contract based on the volatility. During a period of rising volatility, the bands widen, and they contract as the volatility decreases. Prices are considered to be relatively high when they move above the upper band and relatively low when they go below the lower band.\n",
        "\n",
        "Estimation\n",
        "To create the bands, we first compute the SMA and then use this to compute the bands values.\n",
        "\n",
        "Middle Band = 20-day simple moving average (SMA)\n",
        "Upper Band = 20-day SMA + (2 x 20-day standard deviation of price)\n",
        "Lower Band = 20-day SMA - (2 x 20-day standard deviation of price)"
      ],
      "metadata": {
        "id": "r7ZzjCFD4o7T"
      }
    },
    {
      "cell_type": "markdown",
      "source": [
        "Estimation\n",
        "Example: Computing Force index(1) and Force index(15) period.\n",
        "\n",
        "The Force index(1) = {Close (current period) - Close (prior period)} x Current period Volume\n",
        "The Force Index for the 15-day period is an exponential moving average of the 1-period Force Index.\n",
        "\n"
      ],
      "metadata": {
        "id": "zt5mKSUe4x1s"
      }
    },
    {
      "cell_type": "code",
      "source": [
        "# Commodity Channel Index \n",
        "def CCI(df, ndays): \n",
        "  df['TP'] = (data['High'] + data['Low'] + data['Close']) / 3 \n",
        "  df['sma'] = df['TP'].rolling(ndays).mean()\n",
        "  df['mad'] = df['TP'].rolling(ndays).apply(lambda x: pd.Series(x).mad())\n",
        "  df['CCI'] = (df['TP'] - df['sma']) / (0.015 * df['mad']) \n",
        "  return df"
      ],
      "metadata": {
        "id": "eehomK2548u4"
      },
      "execution_count": 4,
      "outputs": []
    },
    {
      "cell_type": "code",
      "source": [
        "# Ease of Movement \n",
        "def EVM(df, ndays): \n",
        " dm = ((df['High'] + df['Low'])/2) - ((df['High'].shift(1) + df['Low'].shift(1))/2)\n",
        " br = (df['Volume'] / 100000000) / ((df['High'] - df['Low']))\n",
        " EVM = dm / br \n",
        " EVM_MA = pd.Series(EVM.rolling(ndays).mean(), name = 'EVM') \n",
        " df = df.join(EVM_MA) \n",
        " return df "
      ],
      "metadata": {
        "id": "xv9bCRsU5AXU"
      },
      "execution_count": 5,
      "outputs": []
    },
    {
      "cell_type": "code",
      "source": [
        "# Simple Moving Average \n",
        "def SMA(df, ndays): \n",
        " SMA = pd.Series(df['Close'].rolling(ndays).mean(), name = 'SMA') \n",
        " df = df.join(SMA) \n",
        " return df"
      ],
      "metadata": {
        "id": "n7onWago36ut"
      },
      "execution_count": 6,
      "outputs": []
    },
    {
      "cell_type": "code",
      "source": [
        "# Exponentially-weighted Moving Average \n",
        "def EWMA(df, ndays): \n",
        " EMA = pd.Series(df['Close'].ewm(span = ndays, min_periods = ndays - 1).mean(), \n",
        "                 name = 'EWMA_' + str(ndays)) \n",
        " df = df.join(EMA) \n",
        " return df"
      ],
      "metadata": {
        "id": "UV5XkGk05s27"
      },
      "execution_count": 7,
      "outputs": []
    },
    {
      "cell_type": "code",
      "source": [
        "# Rate of Change (ROC)\n",
        "def ROC(df,n):\n",
        " N = df['Close'].diff(n)\n",
        " D = df['Close'].shift(n)\n",
        " ROC = pd.Series(N/D,name='Rate of Change')\n",
        " df = df.join(ROC)\n",
        " return df "
      ],
      "metadata": {
        "id": "w5_AUn5u50Vq"
      },
      "execution_count": 8,
      "outputs": []
    },
    {
      "cell_type": "code",
      "source": [
        "# Compute the Bollinger Bands \n",
        "def BBANDS(df, n):\n",
        "    MA = df.Close.rolling(n).mean()\n",
        "    SD = df.Close.rolling(n).std()\n",
        "    df['UpperBB'] = MA + (2 * SD) \n",
        "    df['LowerBB'] = MA - (2 * SD)\n",
        "    return data"
      ],
      "metadata": {
        "id": "M2ZIwv3n59vp"
      },
      "execution_count": 10,
      "outputs": []
    },
    {
      "cell_type": "code",
      "source": [
        "# Force Index \n",
        "def ForceIndex(df, ndays): \n",
        "    FI = pd.Series(df['Close'].diff(ndays) * df['Volume'], name = 'ForceIndex') \n",
        "    df = df.join(FI) \n",
        "    return df"
      ],
      "metadata": {
        "id": "5kcrz2cq6NTR"
      },
      "execution_count": 11,
      "outputs": []
    }
  ]
}