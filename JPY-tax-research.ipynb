{
  "nbformat": 4,
  "nbformat_minor": 0,
  "metadata": {
    "colab": {
      "name": "Untitled4.ipynb",
      "provenance": [],
      "authorship_tag": "ABX9TyPObRF8ibdxm1pGZmcmE6gD",
      "include_colab_link": true
    },
    "kernelspec": {
      "name": "python3",
      "display_name": "Python 3"
    },
    "language_info": {
      "name": "python"
    }
  },
  "cells": [
    {
      "cell_type": "markdown",
      "metadata": {
        "id": "view-in-github",
        "colab_type": "text"
      },
      "source": [
        "<a href=\"https://colab.research.google.com/github/mgovindasamy/Machine-Learning-Examples/blob/master/JPY-tax-research.ipynb\" target=\"_parent\"><img src=\"https://colab.research.google.com/assets/colab-badge.svg\" alt=\"Open In Colab\"/></a>"
      ]
    },
    {
      "cell_type": "code",
      "execution_count": 17,
      "metadata": {
        "id": "RAltxe3W3C7K",
        "outputId": "534419cc-0f95-4e1a-c42f-3ef5f6f14a78",
        "colab": {
          "base_uri": "https://localhost:8080/"
        }
      },
      "outputs": [
        {
          "output_type": "stream",
          "name": "stdout",
          "text": [
            "Requirement already satisfied: download in /usr/local/lib/python3.7/dist-packages (0.3.5)\n",
            "Requirement already satisfied: six in /usr/local/lib/python3.7/dist-packages (from download) (1.15.0)\n",
            "Requirement already satisfied: requests in /usr/local/lib/python3.7/dist-packages (from download) (2.23.0)\n",
            "Requirement already satisfied: tqdm in /usr/local/lib/python3.7/dist-packages (from download) (4.64.0)\n",
            "Requirement already satisfied: urllib3!=1.25.0,!=1.25.1,<1.26,>=1.21.1 in /usr/local/lib/python3.7/dist-packages (from requests->download) (1.24.3)\n",
            "Requirement already satisfied: certifi>=2017.4.17 in /usr/local/lib/python3.7/dist-packages (from requests->download) (2021.10.8)\n",
            "Requirement already satisfied: idna<3,>=2.5 in /usr/local/lib/python3.7/dist-packages (from requests->download) (2.10)\n",
            "Requirement already satisfied: chardet<4,>=3.0.2 in /usr/local/lib/python3.7/dist-packages (from requests->download) (3.0.4)\n"
          ]
        }
      ],
      "source": [
        "!pip install download"
      ]
    },
    {
      "cell_type": "code",
      "source": [
        "import numpy as np \n",
        "import pandas as pd \n",
        "import matplotlib.pyplot as plt \n",
        "from sklearn.preprocessing import MinMaxScaler\n",
        "from keras.models import Sequential\n",
        "from keras.layers import Dense,LSTM,Dropout\n",
        "from download import download"
      ],
      "metadata": {
        "id": "MevqT5-n3SBk"
      },
      "execution_count": 29,
      "outputs": []
    },
    {
      "cell_type": "code",
      "source": [
        "data = pd.read_csv('https://raw.githubusercontent.com/mgovindasamy/Machine-Learning-Examples/master/tesla.csv')\n",
        "data.head\n",
        "data.info()"
      ],
      "metadata": {
        "id": "ye2E3yBkKfAg",
        "outputId": "b91c4d8c-0b31-4588-b46d-9b1fce0b92fd",
        "colab": {
          "base_uri": "https://localhost:8080/"
        }
      },
      "execution_count": 30,
      "outputs": [
        {
          "output_type": "stream",
          "name": "stdout",
          "text": [
            "<class 'pandas.core.frame.DataFrame'>\n",
            "RangeIndex: 2193 entries, 0 to 2192\n",
            "Data columns (total 7 columns):\n",
            " #   Column     Non-Null Count  Dtype  \n",
            "---  ------     --------------  -----  \n",
            " 0   Date       2193 non-null   object \n",
            " 1   Open       2193 non-null   float64\n",
            " 2   High       2193 non-null   float64\n",
            " 3   Low        2193 non-null   float64\n",
            " 4   Close      2193 non-null   float64\n",
            " 5   Adj Close  2193 non-null   float64\n",
            " 6   Volume     2193 non-null   int64  \n",
            "dtypes: float64(5), int64(1), object(1)\n",
            "memory usage: 120.1+ KB\n"
          ]
        }
      ]
    },
    {
      "cell_type": "markdown",
      "source": [
        "These Python technical indicators are popularly used in the markets to study the price movement, so we will be adding the following features in our research:\n",
        "*   Commodity Channel Index\n",
        "*   Ease of Movement\n",
        "*   Moving Average\n",
        "*   Rate of Change\n",
        "*   Bollinger Bands\n",
        "*   Force Index\n"
      ],
      "metadata": {
        "id": "NMh-Nq1j3iTN"
      }
    },
    {
      "cell_type": "markdown",
      "source": [
        "Formula for the Commodity Channel Index\n",
        "The formula for CCI is given by:\n",
        "\n",
        "CCI = (Typical price – MA of Typical price) / (0.015 * mean deviation of Typical price)\n",
        "0.015 is Lambert's constant."
      ],
      "metadata": {
        "id": "_2WSJxgN4A-6"
      }
    },
    {
      "cell_type": "markdown",
      "source": [
        "Estimation\n",
        "To calculate the EMV we first calculate the distance moved. It is given by:\n",
        "\n",
        "Distance moved = ((Current High + Current Low)/2 - (Prior High + Prior Low)/2)\n"
      ],
      "metadata": {
        "id": "adjj7wN34Hxw"
      }
    },
    {
      "cell_type": "markdown",
      "source": [
        "To compute the 20-day EMA, we first compute the very first EMA value using a simple moving average. Then we calculate the multiplier, and thereafter to compute the second EMA value we use the multiplier and the previous day EMA. This formula is used to compute the subsequent EMA values.\n",
        "\n",
        "SMA: 20 period sum / 20\n",
        "Multiplier: (2 / (Time periods + 1)) = (2 / (20 + 1)) = 9.52%\n",
        "EMA: {Close price - EMA(previous day)} x multiplier + EMA(previous day)."
      ],
      "metadata": {
        "id": "ZZTB6QFR4RpK"
      }
    },
    {
      "cell_type": "markdown",
      "source": [
        "Estimation\n",
        "ROC = [(Close price today - Close price “n” day’s ago) / Close price “n” day’s ago))]"
      ],
      "metadata": {
        "id": "XaBLfJE_4dfK"
      }
    },
    {
      "cell_type": "markdown",
      "source": [
        "Bollinger bands expand and contract based on the volatility. During a period of rising volatility, the bands widen, and they contract as the volatility decreases. Prices are considered to be relatively high when they move above the upper band and relatively low when they go below the lower band.\n",
        "\n",
        "Estimation\n",
        "To create the bands, we first compute the SMA and then use this to compute the bands values.\n",
        "\n",
        "Middle Band = 20-day simple moving average (SMA)\n",
        "Upper Band = 20-day SMA + (2 x 20-day standard deviation of price)\n",
        "Lower Band = 20-day SMA - (2 x 20-day standard deviation of price)"
      ],
      "metadata": {
        "id": "r7ZzjCFD4o7T"
      }
    },
    {
      "cell_type": "markdown",
      "source": [
        "Estimation\n",
        "Example: Computing Force index(1) and Force index(15) period.\n",
        "\n",
        "The Force index(1) = {Close (current period) - Close (prior period)} x Current period Volume\n",
        "The Force Index for the 15-day period is an exponential moving average of the 1-period Force Index.\n",
        "\n"
      ],
      "metadata": {
        "id": "zt5mKSUe4x1s"
      }
    },
    {
      "cell_type": "code",
      "source": [
        "# Commodity Channel Index \n",
        "def CCI(df, ndays): \n",
        "  df['TP'] = (data['High'] + data['Low'] + data['Close']) / 3 \n",
        "  df['sma'] = df['TP'].rolling(ndays).mean()\n",
        "  df['mad'] = df['TP'].rolling(ndays).apply(lambda x: pd.Series(x).mad())\n",
        "  df['CCI'] = (df['TP'] - df['sma']) / (0.015 * df['mad']) \n",
        "  return df"
      ],
      "metadata": {
        "id": "eehomK2548u4"
      },
      "execution_count": 31,
      "outputs": []
    },
    {
      "cell_type": "code",
      "source": [
        "# Ease of Movement \n",
        "def EVM(df, ndays): \n",
        " dm = ((df['High'] + df['Low'])/2) - ((df['High'].shift(1) + df['Low'].shift(1))/2)\n",
        " br = (df['Volume'] / 100000000) / ((df['High'] - df['Low']))\n",
        " EVM = dm / br \n",
        " EVM_MA = pd.Series(EVM.rolling(ndays).mean(), name = 'EVM') \n",
        " df = df.join(EVM_MA) \n",
        " return df "
      ],
      "metadata": {
        "id": "xv9bCRsU5AXU"
      },
      "execution_count": 32,
      "outputs": []
    },
    {
      "cell_type": "code",
      "source": [
        "# Simple Moving Average \n",
        "def SMA(df, ndays): \n",
        " SMA = pd.Series(df['Close'].rolling(ndays).mean(), name = 'SMA') \n",
        " df = df.join(SMA) \n",
        " return df"
      ],
      "metadata": {
        "id": "n7onWago36ut"
      },
      "execution_count": 33,
      "outputs": []
    },
    {
      "cell_type": "code",
      "source": [
        "# Exponentially-weighted Moving Average \n",
        "def EWMA(df, ndays): \n",
        " EMA = pd.Series(df['Close'].ewm(span = ndays, min_periods = ndays - 1).mean(), \n",
        "                 name = 'EWMA_' + str(ndays)) \n",
        " df = df.join(EMA) \n",
        " return df"
      ],
      "metadata": {
        "id": "UV5XkGk05s27"
      },
      "execution_count": 34,
      "outputs": []
    },
    {
      "cell_type": "code",
      "source": [
        "# Rate of Change (ROC)\n",
        "def ROC(df,ndays):\n",
        " N = df['Close'].diff(ndays)\n",
        " D = df['Close'].shift(ndays)\n",
        " ROC = pd.Series(N/D,name='Rate of Change')\n",
        " df = df.join(ROC)\n",
        " return df "
      ],
      "metadata": {
        "id": "w5_AUn5u50Vq"
      },
      "execution_count": 35,
      "outputs": []
    },
    {
      "cell_type": "code",
      "source": [
        "# Compute the Bollinger Bands \n",
        "def BBANDS(df, ndays):\n",
        "    MA = df.Close.rolling(ndays).mean()\n",
        "    SD = df.Close.rolling(ndays).std()\n",
        "    df['UpperBB'] = MA + (2 * SD) \n",
        "    df['LowerBB'] = MA - (2 * SD)\n",
        "    return data"
      ],
      "metadata": {
        "id": "M2ZIwv3n59vp"
      },
      "execution_count": 36,
      "outputs": []
    },
    {
      "cell_type": "code",
      "source": [
        "# Force Index \n",
        "def ForceIndex(df, ndays): \n",
        "    FI = pd.Series(df['Close'].diff(ndays) * df['Volume'], name = 'ForceIndex') \n",
        "    df = df.join(FI) \n",
        "    return df"
      ],
      "metadata": {
        "id": "5kcrz2cq6NTR"
      },
      "execution_count": 37,
      "outputs": []
    },
    {
      "cell_type": "code",
      "source": [
        "# Compute the 5-period Rate of Change for NIFTY\n",
        "n = 3"
      ],
      "metadata": {
        "id": "h-EqgvUoLpU5"
      },
      "execution_count": 38,
      "outputs": []
    },
    {
      "cell_type": "code",
      "source": [
        "NIFTY_ROC = ROC(data,n)\n",
        "BB = BBANDS(data,n)\n",
        "EM = EWMA(data,n)\n",
        "SM = SMA(data,n)\n",
        "EV = EVM(data,n)\n",
        "CC = CCI(data,n)\n",
        "FI = ForceIndex(data,n)\n",
        "data.head()"
      ],
      "metadata": {
        "id": "uBHIYEiDML46",
        "outputId": "4a26332d-15c5-40e8-f5da-d290ecd447af",
        "colab": {
          "base_uri": "https://localhost:8080/",
          "height": 206
        }
      },
      "execution_count": 39,
      "outputs": [
        {
          "output_type": "execute_result",
          "data": {
            "text/plain": [
              "         Date       Open   High        Low      Close  Adj Close    Volume  \\\n",
              "0  29-06-2010  19.000000  25.00  17.540001  23.889999  23.889999  18766300   \n",
              "1  30-06-2010  25.790001  30.42  23.299999  23.830000  23.830000  17187100   \n",
              "2  01-07-2010  25.000000  25.92  20.270000  21.959999  21.959999   8218800   \n",
              "3  02-07-2010  23.000000  23.10  18.709999  19.200001  19.200001   5139800   \n",
              "4  06-07-2010  20.000000  20.00  15.830000  16.110001  16.110001   6866900   \n",
              "\n",
              "     UpperBB    LowerBB         TP        sma       mad         CCI  \n",
              "0        NaN        NaN  22.143333        NaN       NaN         NaN  \n",
              "1        NaN        NaN  25.850000        NaN       NaN         NaN  \n",
              "2  25.421418  21.031914  22.716666  23.570000  1.520000  -37.426907  \n",
              "3  26.321758  17.004908  20.336667  22.967778  1.921481  -91.287583  \n",
              "4  24.943100  13.236901  17.313334  20.122222  1.872592 -100.000000  "
            ],
            "text/html": [
              "\n",
              "  <div id=\"df-719b2dc8-fdcc-4e1c-b556-20aa8b4f0992\">\n",
              "    <div class=\"colab-df-container\">\n",
              "      <div>\n",
              "<style scoped>\n",
              "    .dataframe tbody tr th:only-of-type {\n",
              "        vertical-align: middle;\n",
              "    }\n",
              "\n",
              "    .dataframe tbody tr th {\n",
              "        vertical-align: top;\n",
              "    }\n",
              "\n",
              "    .dataframe thead th {\n",
              "        text-align: right;\n",
              "    }\n",
              "</style>\n",
              "<table border=\"1\" class=\"dataframe\">\n",
              "  <thead>\n",
              "    <tr style=\"text-align: right;\">\n",
              "      <th></th>\n",
              "      <th>Date</th>\n",
              "      <th>Open</th>\n",
              "      <th>High</th>\n",
              "      <th>Low</th>\n",
              "      <th>Close</th>\n",
              "      <th>Adj Close</th>\n",
              "      <th>Volume</th>\n",
              "      <th>UpperBB</th>\n",
              "      <th>LowerBB</th>\n",
              "      <th>TP</th>\n",
              "      <th>sma</th>\n",
              "      <th>mad</th>\n",
              "      <th>CCI</th>\n",
              "    </tr>\n",
              "  </thead>\n",
              "  <tbody>\n",
              "    <tr>\n",
              "      <th>0</th>\n",
              "      <td>29-06-2010</td>\n",
              "      <td>19.000000</td>\n",
              "      <td>25.00</td>\n",
              "      <td>17.540001</td>\n",
              "      <td>23.889999</td>\n",
              "      <td>23.889999</td>\n",
              "      <td>18766300</td>\n",
              "      <td>NaN</td>\n",
              "      <td>NaN</td>\n",
              "      <td>22.143333</td>\n",
              "      <td>NaN</td>\n",
              "      <td>NaN</td>\n",
              "      <td>NaN</td>\n",
              "    </tr>\n",
              "    <tr>\n",
              "      <th>1</th>\n",
              "      <td>30-06-2010</td>\n",
              "      <td>25.790001</td>\n",
              "      <td>30.42</td>\n",
              "      <td>23.299999</td>\n",
              "      <td>23.830000</td>\n",
              "      <td>23.830000</td>\n",
              "      <td>17187100</td>\n",
              "      <td>NaN</td>\n",
              "      <td>NaN</td>\n",
              "      <td>25.850000</td>\n",
              "      <td>NaN</td>\n",
              "      <td>NaN</td>\n",
              "      <td>NaN</td>\n",
              "    </tr>\n",
              "    <tr>\n",
              "      <th>2</th>\n",
              "      <td>01-07-2010</td>\n",
              "      <td>25.000000</td>\n",
              "      <td>25.92</td>\n",
              "      <td>20.270000</td>\n",
              "      <td>21.959999</td>\n",
              "      <td>21.959999</td>\n",
              "      <td>8218800</td>\n",
              "      <td>25.421418</td>\n",
              "      <td>21.031914</td>\n",
              "      <td>22.716666</td>\n",
              "      <td>23.570000</td>\n",
              "      <td>1.520000</td>\n",
              "      <td>-37.426907</td>\n",
              "    </tr>\n",
              "    <tr>\n",
              "      <th>3</th>\n",
              "      <td>02-07-2010</td>\n",
              "      <td>23.000000</td>\n",
              "      <td>23.10</td>\n",
              "      <td>18.709999</td>\n",
              "      <td>19.200001</td>\n",
              "      <td>19.200001</td>\n",
              "      <td>5139800</td>\n",
              "      <td>26.321758</td>\n",
              "      <td>17.004908</td>\n",
              "      <td>20.336667</td>\n",
              "      <td>22.967778</td>\n",
              "      <td>1.921481</td>\n",
              "      <td>-91.287583</td>\n",
              "    </tr>\n",
              "    <tr>\n",
              "      <th>4</th>\n",
              "      <td>06-07-2010</td>\n",
              "      <td>20.000000</td>\n",
              "      <td>20.00</td>\n",
              "      <td>15.830000</td>\n",
              "      <td>16.110001</td>\n",
              "      <td>16.110001</td>\n",
              "      <td>6866900</td>\n",
              "      <td>24.943100</td>\n",
              "      <td>13.236901</td>\n",
              "      <td>17.313334</td>\n",
              "      <td>20.122222</td>\n",
              "      <td>1.872592</td>\n",
              "      <td>-100.000000</td>\n",
              "    </tr>\n",
              "  </tbody>\n",
              "</table>\n",
              "</div>\n",
              "      <button class=\"colab-df-convert\" onclick=\"convertToInteractive('df-719b2dc8-fdcc-4e1c-b556-20aa8b4f0992')\"\n",
              "              title=\"Convert this dataframe to an interactive table.\"\n",
              "              style=\"display:none;\">\n",
              "        \n",
              "  <svg xmlns=\"http://www.w3.org/2000/svg\" height=\"24px\"viewBox=\"0 0 24 24\"\n",
              "       width=\"24px\">\n",
              "    <path d=\"M0 0h24v24H0V0z\" fill=\"none\"/>\n",
              "    <path d=\"M18.56 5.44l.94 2.06.94-2.06 2.06-.94-2.06-.94-.94-2.06-.94 2.06-2.06.94zm-11 1L8.5 8.5l.94-2.06 2.06-.94-2.06-.94L8.5 2.5l-.94 2.06-2.06.94zm10 10l.94 2.06.94-2.06 2.06-.94-2.06-.94-.94-2.06-.94 2.06-2.06.94z\"/><path d=\"M17.41 7.96l-1.37-1.37c-.4-.4-.92-.59-1.43-.59-.52 0-1.04.2-1.43.59L10.3 9.45l-7.72 7.72c-.78.78-.78 2.05 0 2.83L4 21.41c.39.39.9.59 1.41.59.51 0 1.02-.2 1.41-.59l7.78-7.78 2.81-2.81c.8-.78.8-2.07 0-2.86zM5.41 20L4 18.59l7.72-7.72 1.47 1.35L5.41 20z\"/>\n",
              "  </svg>\n",
              "      </button>\n",
              "      \n",
              "  <style>\n",
              "    .colab-df-container {\n",
              "      display:flex;\n",
              "      flex-wrap:wrap;\n",
              "      gap: 12px;\n",
              "    }\n",
              "\n",
              "    .colab-df-convert {\n",
              "      background-color: #E8F0FE;\n",
              "      border: none;\n",
              "      border-radius: 50%;\n",
              "      cursor: pointer;\n",
              "      display: none;\n",
              "      fill: #1967D2;\n",
              "      height: 32px;\n",
              "      padding: 0 0 0 0;\n",
              "      width: 32px;\n",
              "    }\n",
              "\n",
              "    .colab-df-convert:hover {\n",
              "      background-color: #E2EBFA;\n",
              "      box-shadow: 0px 1px 2px rgba(60, 64, 67, 0.3), 0px 1px 3px 1px rgba(60, 64, 67, 0.15);\n",
              "      fill: #174EA6;\n",
              "    }\n",
              "\n",
              "    [theme=dark] .colab-df-convert {\n",
              "      background-color: #3B4455;\n",
              "      fill: #D2E3FC;\n",
              "    }\n",
              "\n",
              "    [theme=dark] .colab-df-convert:hover {\n",
              "      background-color: #434B5C;\n",
              "      box-shadow: 0px 1px 3px 1px rgba(0, 0, 0, 0.15);\n",
              "      filter: drop-shadow(0px 1px 2px rgba(0, 0, 0, 0.3));\n",
              "      fill: #FFFFFF;\n",
              "    }\n",
              "  </style>\n",
              "\n",
              "      <script>\n",
              "        const buttonEl =\n",
              "          document.querySelector('#df-719b2dc8-fdcc-4e1c-b556-20aa8b4f0992 button.colab-df-convert');\n",
              "        buttonEl.style.display =\n",
              "          google.colab.kernel.accessAllowed ? 'block' : 'none';\n",
              "\n",
              "        async function convertToInteractive(key) {\n",
              "          const element = document.querySelector('#df-719b2dc8-fdcc-4e1c-b556-20aa8b4f0992');\n",
              "          const dataTable =\n",
              "            await google.colab.kernel.invokeFunction('convertToInteractive',\n",
              "                                                     [key], {});\n",
              "          if (!dataTable) return;\n",
              "\n",
              "          const docLinkHtml = 'Like what you see? Visit the ' +\n",
              "            '<a target=\"_blank\" href=https://colab.research.google.com/notebooks/data_table.ipynb>data table notebook</a>'\n",
              "            + ' to learn more about interactive tables.';\n",
              "          element.innerHTML = '';\n",
              "          dataTable['output_type'] = 'display_data';\n",
              "          await google.colab.output.renderOutput(dataTable, element);\n",
              "          const docLink = document.createElement('div');\n",
              "          docLink.innerHTML = docLinkHtml;\n",
              "          element.appendChild(docLink);\n",
              "        }\n",
              "      </script>\n",
              "    </div>\n",
              "  </div>\n",
              "  "
            ]
          },
          "metadata": {},
          "execution_count": 39
        }
      ]
    },
    {
      "cell_type": "code",
      "source": [
        "FI.info()"
      ],
      "metadata": {
        "id": "BUlM5NfrNJ2Y",
        "outputId": "c86e6af9-f2ca-4ed8-86ad-6661d8d5a1d9",
        "colab": {
          "base_uri": "https://localhost:8080/"
        }
      },
      "execution_count": 40,
      "outputs": [
        {
          "output_type": "stream",
          "name": "stdout",
          "text": [
            "<class 'pandas.core.frame.DataFrame'>\n",
            "RangeIndex: 2193 entries, 0 to 2192\n",
            "Data columns (total 14 columns):\n",
            " #   Column      Non-Null Count  Dtype  \n",
            "---  ------      --------------  -----  \n",
            " 0   Date        2193 non-null   object \n",
            " 1   Open        2193 non-null   float64\n",
            " 2   High        2193 non-null   float64\n",
            " 3   Low         2193 non-null   float64\n",
            " 4   Close       2193 non-null   float64\n",
            " 5   Adj Close   2193 non-null   float64\n",
            " 6   Volume      2193 non-null   int64  \n",
            " 7   UpperBB     2191 non-null   float64\n",
            " 8   LowerBB     2191 non-null   float64\n",
            " 9   TP          2193 non-null   float64\n",
            " 10  sma         2191 non-null   float64\n",
            " 11  mad         2191 non-null   float64\n",
            " 12  CCI         2191 non-null   float64\n",
            " 13  ForceIndex  2190 non-null   float64\n",
            "dtypes: float64(12), int64(1), object(1)\n",
            "memory usage: 240.0+ KB\n"
          ]
        }
      ]
    },
    {
      "cell_type": "code",
      "source": [
        "data = data.dropna()"
      ],
      "metadata": {
        "id": "TcGPv4oXNZkh"
      },
      "execution_count": 42,
      "outputs": []
    },
    {
      "cell_type": "code",
      "source": [
        "data.head()"
      ],
      "metadata": {
        "id": "HyV4rObxXP3d",
        "outputId": "3f127260-26df-4efb-cec5-0f42119d97f6",
        "colab": {
          "base_uri": "https://localhost:8080/",
          "height": 206
        }
      },
      "execution_count": 43,
      "outputs": [
        {
          "output_type": "execute_result",
          "data": {
            "text/plain": [
              "         Date       Open       High        Low      Close  Adj Close   Volume  \\\n",
              "2  01-07-2010  25.000000  25.920000  20.270000  21.959999  21.959999  8218800   \n",
              "3  02-07-2010  23.000000  23.100000  18.709999  19.200001  19.200001  5139800   \n",
              "4  06-07-2010  20.000000  20.000000  15.830000  16.110001  16.110001  6866900   \n",
              "5  07-07-2010  16.400000  16.629999  14.980000  15.800000  15.800000  6921700   \n",
              "6  08-07-2010  16.139999  17.520000  15.570000  17.459999  17.459999  7711400   \n",
              "\n",
              "     UpperBB    LowerBB         TP        sma       mad         CCI  \n",
              "2  25.421418  21.031914  22.716666  23.570000  1.520000  -37.426907  \n",
              "3  26.321758  17.004908  20.336667  22.967778  1.921481  -91.287583  \n",
              "4  24.943100  13.236901  17.313334  20.122222  1.872592 -100.000000  \n",
              "5  20.796473  13.276862  15.803333  17.817778  1.679259  -79.973547  \n",
              "6  18.221922  14.691411  16.850000  16.655555  0.568148   22.816135  "
            ],
            "text/html": [
              "\n",
              "  <div id=\"df-05e9f4a2-9de9-4a86-a456-b561554fb0bb\">\n",
              "    <div class=\"colab-df-container\">\n",
              "      <div>\n",
              "<style scoped>\n",
              "    .dataframe tbody tr th:only-of-type {\n",
              "        vertical-align: middle;\n",
              "    }\n",
              "\n",
              "    .dataframe tbody tr th {\n",
              "        vertical-align: top;\n",
              "    }\n",
              "\n",
              "    .dataframe thead th {\n",
              "        text-align: right;\n",
              "    }\n",
              "</style>\n",
              "<table border=\"1\" class=\"dataframe\">\n",
              "  <thead>\n",
              "    <tr style=\"text-align: right;\">\n",
              "      <th></th>\n",
              "      <th>Date</th>\n",
              "      <th>Open</th>\n",
              "      <th>High</th>\n",
              "      <th>Low</th>\n",
              "      <th>Close</th>\n",
              "      <th>Adj Close</th>\n",
              "      <th>Volume</th>\n",
              "      <th>UpperBB</th>\n",
              "      <th>LowerBB</th>\n",
              "      <th>TP</th>\n",
              "      <th>sma</th>\n",
              "      <th>mad</th>\n",
              "      <th>CCI</th>\n",
              "    </tr>\n",
              "  </thead>\n",
              "  <tbody>\n",
              "    <tr>\n",
              "      <th>2</th>\n",
              "      <td>01-07-2010</td>\n",
              "      <td>25.000000</td>\n",
              "      <td>25.920000</td>\n",
              "      <td>20.270000</td>\n",
              "      <td>21.959999</td>\n",
              "      <td>21.959999</td>\n",
              "      <td>8218800</td>\n",
              "      <td>25.421418</td>\n",
              "      <td>21.031914</td>\n",
              "      <td>22.716666</td>\n",
              "      <td>23.570000</td>\n",
              "      <td>1.520000</td>\n",
              "      <td>-37.426907</td>\n",
              "    </tr>\n",
              "    <tr>\n",
              "      <th>3</th>\n",
              "      <td>02-07-2010</td>\n",
              "      <td>23.000000</td>\n",
              "      <td>23.100000</td>\n",
              "      <td>18.709999</td>\n",
              "      <td>19.200001</td>\n",
              "      <td>19.200001</td>\n",
              "      <td>5139800</td>\n",
              "      <td>26.321758</td>\n",
              "      <td>17.004908</td>\n",
              "      <td>20.336667</td>\n",
              "      <td>22.967778</td>\n",
              "      <td>1.921481</td>\n",
              "      <td>-91.287583</td>\n",
              "    </tr>\n",
              "    <tr>\n",
              "      <th>4</th>\n",
              "      <td>06-07-2010</td>\n",
              "      <td>20.000000</td>\n",
              "      <td>20.000000</td>\n",
              "      <td>15.830000</td>\n",
              "      <td>16.110001</td>\n",
              "      <td>16.110001</td>\n",
              "      <td>6866900</td>\n",
              "      <td>24.943100</td>\n",
              "      <td>13.236901</td>\n",
              "      <td>17.313334</td>\n",
              "      <td>20.122222</td>\n",
              "      <td>1.872592</td>\n",
              "      <td>-100.000000</td>\n",
              "    </tr>\n",
              "    <tr>\n",
              "      <th>5</th>\n",
              "      <td>07-07-2010</td>\n",
              "      <td>16.400000</td>\n",
              "      <td>16.629999</td>\n",
              "      <td>14.980000</td>\n",
              "      <td>15.800000</td>\n",
              "      <td>15.800000</td>\n",
              "      <td>6921700</td>\n",
              "      <td>20.796473</td>\n",
              "      <td>13.276862</td>\n",
              "      <td>15.803333</td>\n",
              "      <td>17.817778</td>\n",
              "      <td>1.679259</td>\n",
              "      <td>-79.973547</td>\n",
              "    </tr>\n",
              "    <tr>\n",
              "      <th>6</th>\n",
              "      <td>08-07-2010</td>\n",
              "      <td>16.139999</td>\n",
              "      <td>17.520000</td>\n",
              "      <td>15.570000</td>\n",
              "      <td>17.459999</td>\n",
              "      <td>17.459999</td>\n",
              "      <td>7711400</td>\n",
              "      <td>18.221922</td>\n",
              "      <td>14.691411</td>\n",
              "      <td>16.850000</td>\n",
              "      <td>16.655555</td>\n",
              "      <td>0.568148</td>\n",
              "      <td>22.816135</td>\n",
              "    </tr>\n",
              "  </tbody>\n",
              "</table>\n",
              "</div>\n",
              "      <button class=\"colab-df-convert\" onclick=\"convertToInteractive('df-05e9f4a2-9de9-4a86-a456-b561554fb0bb')\"\n",
              "              title=\"Convert this dataframe to an interactive table.\"\n",
              "              style=\"display:none;\">\n",
              "        \n",
              "  <svg xmlns=\"http://www.w3.org/2000/svg\" height=\"24px\"viewBox=\"0 0 24 24\"\n",
              "       width=\"24px\">\n",
              "    <path d=\"M0 0h24v24H0V0z\" fill=\"none\"/>\n",
              "    <path d=\"M18.56 5.44l.94 2.06.94-2.06 2.06-.94-2.06-.94-.94-2.06-.94 2.06-2.06.94zm-11 1L8.5 8.5l.94-2.06 2.06-.94-2.06-.94L8.5 2.5l-.94 2.06-2.06.94zm10 10l.94 2.06.94-2.06 2.06-.94-2.06-.94-.94-2.06-.94 2.06-2.06.94z\"/><path d=\"M17.41 7.96l-1.37-1.37c-.4-.4-.92-.59-1.43-.59-.52 0-1.04.2-1.43.59L10.3 9.45l-7.72 7.72c-.78.78-.78 2.05 0 2.83L4 21.41c.39.39.9.59 1.41.59.51 0 1.02-.2 1.41-.59l7.78-7.78 2.81-2.81c.8-.78.8-2.07 0-2.86zM5.41 20L4 18.59l7.72-7.72 1.47 1.35L5.41 20z\"/>\n",
              "  </svg>\n",
              "      </button>\n",
              "      \n",
              "  <style>\n",
              "    .colab-df-container {\n",
              "      display:flex;\n",
              "      flex-wrap:wrap;\n",
              "      gap: 12px;\n",
              "    }\n",
              "\n",
              "    .colab-df-convert {\n",
              "      background-color: #E8F0FE;\n",
              "      border: none;\n",
              "      border-radius: 50%;\n",
              "      cursor: pointer;\n",
              "      display: none;\n",
              "      fill: #1967D2;\n",
              "      height: 32px;\n",
              "      padding: 0 0 0 0;\n",
              "      width: 32px;\n",
              "    }\n",
              "\n",
              "    .colab-df-convert:hover {\n",
              "      background-color: #E2EBFA;\n",
              "      box-shadow: 0px 1px 2px rgba(60, 64, 67, 0.3), 0px 1px 3px 1px rgba(60, 64, 67, 0.15);\n",
              "      fill: #174EA6;\n",
              "    }\n",
              "\n",
              "    [theme=dark] .colab-df-convert {\n",
              "      background-color: #3B4455;\n",
              "      fill: #D2E3FC;\n",
              "    }\n",
              "\n",
              "    [theme=dark] .colab-df-convert:hover {\n",
              "      background-color: #434B5C;\n",
              "      box-shadow: 0px 1px 3px 1px rgba(0, 0, 0, 0.15);\n",
              "      filter: drop-shadow(0px 1px 2px rgba(0, 0, 0, 0.3));\n",
              "      fill: #FFFFFF;\n",
              "    }\n",
              "  </style>\n",
              "\n",
              "      <script>\n",
              "        const buttonEl =\n",
              "          document.querySelector('#df-05e9f4a2-9de9-4a86-a456-b561554fb0bb button.colab-df-convert');\n",
              "        buttonEl.style.display =\n",
              "          google.colab.kernel.accessAllowed ? 'block' : 'none';\n",
              "\n",
              "        async function convertToInteractive(key) {\n",
              "          const element = document.querySelector('#df-05e9f4a2-9de9-4a86-a456-b561554fb0bb');\n",
              "          const dataTable =\n",
              "            await google.colab.kernel.invokeFunction('convertToInteractive',\n",
              "                                                     [key], {});\n",
              "          if (!dataTable) return;\n",
              "\n",
              "          const docLinkHtml = 'Like what you see? Visit the ' +\n",
              "            '<a target=\"_blank\" href=https://colab.research.google.com/notebooks/data_table.ipynb>data table notebook</a>'\n",
              "            + ' to learn more about interactive tables.';\n",
              "          element.innerHTML = '';\n",
              "          dataTable['output_type'] = 'display_data';\n",
              "          await google.colab.output.renderOutput(dataTable, element);\n",
              "          const docLink = document.createElement('div');\n",
              "          docLink.innerHTML = docLinkHtml;\n",
              "          element.appendChild(docLink);\n",
              "        }\n",
              "      </script>\n",
              "    </div>\n",
              "  </div>\n",
              "  "
            ]
          },
          "metadata": {},
          "execution_count": 43
        }
      ]
    },
    {
      "cell_type": "code",
      "source": [
        "print(data.value_counts())"
      ],
      "metadata": {
        "id": "-Fk1IEmVZGrw",
        "outputId": "58b23289-e121-4286-a2f3-7083dba05c29",
        "colab": {
          "base_uri": "https://localhost:8080/"
        }
      },
      "execution_count": 47,
      "outputs": [
        {
          "output_type": "stream",
          "name": "stdout",
          "text": [
            "Date        Open        High        Low         Close       Adj Close   Volume   UpperBB     LowerBB     TP          sma         mad       CCI        \n",
            "01-02-2011  24.309999   24.730000   23.540001   23.910000   23.910000   707800   24.196754   23.816579   24.060000   24.060000   0.102222   0.000145      1\n",
            "21-03-2014  236.020004  236.199997  227.500000  228.889999  228.889999  8216900  240.759096  225.667570  230.863332  234.556666  2.462223  -100.000000    1\n",
            "21-02-2017  275.450012  281.399994  274.010010  277.390015  277.390015  5676700  281.366191  264.347168  277.600006  273.280006  2.880000   100.000000    1\n",
            "21-02-2018  336.029999  339.690002  333.170013  333.299988  333.299988  3219600  336.752389  332.287589  335.386668  335.946665  0.535556  -69.709137     1\n",
            "21-02-2019  301.809998  303.239990  290.500000  291.230011  291.230011  8909200  314.986818  284.633198  294.990000  301.720001  4.486667  -100.000000    1\n",
            "                                                                                                                                                         ..\n",
            "11-01-2019  342.089996  348.410004  338.769989  347.260010  347.260010  5039100  352.639510  334.533830  344.813334  341.121114  2.461480   100.000000    1\n",
            "11-01-2018  335.239990  344.809998  333.260010  337.950012  337.950012  6645500  339.899835  331.060166  338.673340  335.301110  2.248153   100.000000    1\n",
            "11-01-2017  229.070007  229.979996  226.679993  229.729996  229.729996  3650800  232.008016  228.578644  228.796662  229.594442  0.537038  -99.034568     1\n",
            "11-01-2016  214.009995  214.449997  203.000000  207.850006  207.850006  4089700  219.347918  203.652082  208.433334  212.807778  2.916296  -100.000000    1\n",
            "31-12-2018  337.790009  339.209991  325.260010  332.799988  332.799988  6302300  347.495397  307.704595  332.423330  325.065555  7.865922   62.359928     1\n",
            "Length: 2191, dtype: int64\n"
          ]
        }
      ]
    },
    {
      "cell_type": "code",
      "source": [
        "trainData = data.iloc[:,4:12].values"
      ],
      "metadata": {
        "id": "UsFX87wNZNHx"
      },
      "execution_count": 48,
      "outputs": []
    },
    {
      "cell_type": "code",
      "source": [
        "sc = MinMaxScaler(feature_range=(0,7))\n",
        "trainData = sc.fit_transform(trainData)\n",
        "trainData.shape"
      ],
      "metadata": {
        "id": "ArKmjwYab7zQ",
        "outputId": "bdf26c3c-92bf-412f-91e7-cb76d00b7bd2",
        "colab": {
          "base_uri": "https://localhost:8080/"
        }
      },
      "execution_count": 52,
      "outputs": [
        {
          "output_type": "execute_result",
          "data": {
            "text/plain": [
              "(2191, 8)"
            ]
          },
          "metadata": {},
          "execution_count": 52
        }
      ]
    },
    {
      "cell_type": "code",
      "source": [
        "X_train = []\n",
        "y_train = []\n",
        "\n",
        "for i in range (60,2191): #60 : timestep // 1149 : length of the data\n",
        "    X_train.append(trainData[i-60:i,0]) \n",
        "    y_train.append(trainData[i,0])\n",
        "\n",
        "X_train,y_train = np.array(X_train),np.array(y_train)"
      ],
      "metadata": {
        "id": "z7s_DhICclcv"
      },
      "execution_count": 53,
      "outputs": []
    },
    {
      "cell_type": "code",
      "source": [
        "X_train = np.reshape(X_train,(X_train.shape[0],X_train.shape[1],1)) #adding the batch_size axis\n",
        "X_train.shape"
      ],
      "metadata": {
        "id": "SqgxbS1Nczqa",
        "outputId": "e33772cc-4df5-4981-af49-b1c1e6cae274",
        "colab": {
          "base_uri": "https://localhost:8080/"
        }
      },
      "execution_count": 54,
      "outputs": [
        {
          "output_type": "execute_result",
          "data": {
            "text/plain": [
              "(2131, 60, 1)"
            ]
          },
          "metadata": {},
          "execution_count": 54
        }
      ]
    },
    {
      "cell_type": "code",
      "source": [
        "model = Sequential()\n",
        "\n",
        "model.add(LSTM(units=100, return_sequences = True, input_shape =(X_train.shape[1],1)))\n",
        "model.add(Dropout(0.2))\n",
        "\n",
        "model.add(LSTM(units=100, return_sequences = True))\n",
        "model.add(Dropout(0.2))\n",
        "\n",
        "model.add(LSTM(units=100, return_sequences = True))\n",
        "model.add(Dropout(0.2))\n",
        "\n",
        "model.add(LSTM(units=100, return_sequences = False))\n",
        "model.add(Dropout(0.2))\n",
        "\n",
        "model.add(Dense(units =1))\n",
        "model.compile(optimizer='adam',loss=\"mean_squared_error\")"
      ],
      "metadata": {
        "id": "EyR3KkLGc1uw"
      },
      "execution_count": 55,
      "outputs": []
    },
    {
      "cell_type": "code",
      "source": [
        "hist = model.fit(X_train, y_train, epochs = 20, batch_size = 32, verbose=2)"
      ],
      "metadata": {
        "id": "2ryKeTVWdAIA",
        "outputId": "158dce7f-0c99-4293-d61a-f9624fefbc0f",
        "colab": {
          "base_uri": "https://localhost:8080/"
        }
      },
      "execution_count": 56,
      "outputs": [
        {
          "output_type": "stream",
          "name": "stdout",
          "text": [
            "Epoch 1/20\n",
            "67/67 - 16s - loss: 1.1313 - 16s/epoch - 232ms/step\n",
            "Epoch 2/20\n",
            "67/67 - 9s - loss: 0.1708 - 9s/epoch - 132ms/step\n",
            "Epoch 3/20\n",
            "67/67 - 10s - loss: 0.1843 - 10s/epoch - 156ms/step\n",
            "Epoch 4/20\n",
            "67/67 - 12s - loss: 0.1611 - 12s/epoch - 172ms/step\n",
            "Epoch 5/20\n",
            "67/67 - 9s - loss: 0.1529 - 9s/epoch - 134ms/step\n",
            "Epoch 6/20\n",
            "67/67 - 9s - loss: 0.1337 - 9s/epoch - 132ms/step\n",
            "Epoch 7/20\n",
            "67/67 - 9s - loss: 0.1254 - 9s/epoch - 137ms/step\n",
            "Epoch 8/20\n",
            "67/67 - 14s - loss: 0.1146 - 14s/epoch - 214ms/step\n",
            "Epoch 9/20\n",
            "67/67 - 10s - loss: 0.1373 - 10s/epoch - 151ms/step\n",
            "Epoch 10/20\n",
            "67/67 - 9s - loss: 0.1022 - 9s/epoch - 132ms/step\n",
            "Epoch 11/20\n",
            "67/67 - 10s - loss: 0.0962 - 10s/epoch - 152ms/step\n",
            "Epoch 12/20\n",
            "67/67 - 9s - loss: 0.1176 - 9s/epoch - 133ms/step\n",
            "Epoch 13/20\n",
            "67/67 - 15s - loss: 0.0894 - 15s/epoch - 227ms/step\n",
            "Epoch 14/20\n",
            "67/67 - 9s - loss: 0.0907 - 9s/epoch - 133ms/step\n",
            "Epoch 15/20\n",
            "67/67 - 9s - loss: 0.0904 - 9s/epoch - 133ms/step\n",
            "Epoch 16/20\n",
            "67/67 - 9s - loss: 0.0868 - 9s/epoch - 132ms/step\n",
            "Epoch 17/20\n",
            "67/67 - 9s - loss: 0.0897 - 9s/epoch - 132ms/step\n",
            "Epoch 18/20\n",
            "67/67 - 9s - loss: 0.0875 - 9s/epoch - 132ms/step\n",
            "Epoch 19/20\n",
            "67/67 - 9s - loss: 0.0781 - 9s/epoch - 138ms/step\n",
            "Epoch 20/20\n",
            "67/67 - 9s - loss: 0.0823 - 9s/epoch - 132ms/step\n"
          ]
        }
      ]
    },
    {
      "cell_type": "code",
      "source": [
        "plt.plot(hist.history['loss'])\n",
        "plt.title('Training model loss')\n",
        "plt.ylabel('loss')\n",
        "plt.xlabel('epoch')\n",
        "plt.legend(['train'], loc='upper left')\n",
        "plt.show()"
      ],
      "metadata": {
        "id": "eXADhb_AdISM",
        "outputId": "fa5ceefc-a578-48ee-a051-bfcb7783e5cc",
        "colab": {
          "base_uri": "https://localhost:8080/",
          "height": 295
        }
      },
      "execution_count": 57,
      "outputs": [
        {
          "output_type": "display_data",
          "data": {
            "text/plain": [
              "<Figure size 432x288 with 1 Axes>"
            ],
            "image/png": "[encoded data removed]"
          },
          "metadata": {
            "needs_background": "light"
          }
        }
      ]
    },
    {
      "cell_type": "code",
      "source": [
        "testData = pd.read_csv('https://raw.githubusercontent.com/mgovindasamy/Machine-Learning-Examples/master/Google_test_data.csv')\n",
        "testData[\"Close\"]=pd.to_numeric(testData.Close,errors='coerce')\n",
        "testData = testData.dropna()\n",
        "testData = testData.iloc[:,4:5]\n",
        "y_test = testData.iloc[60:,0:].values \n",
        "#input array for the model\n",
        "inputClosing = testData.iloc[:,0:].values \n",
        "inputClosing_scaled = sc.transform(inputClosing)\n",
        "inputClosing_scaled.shape\n",
        "X_test = []\n",
        "length = len(testData)\n",
        "timestep = 60\n",
        "for i in range(timestep,length):  \n",
        "    X_test.append(inputClosing_scaled[i-timestep:i,0])\n",
        "X_test = np.array(X_test)\n",
        "X_test = np.reshape(X_test,(X_test.shape[0],X_test.shape[1],1))\n",
        "X_test.shape"
      ],
      "metadata": {
        "id": "irbmH2pRdTTy"
      },
      "execution_count": null,
      "outputs": []
    },
    {
      "cell_type": "code",
      "source": [
        "y_pred = model.predict(X_test)\n",
        "y_pred"
      ],
      "metadata": {
        "id": "XTQnjhfbdWDB"
      },
      "execution_count": null,
      "outputs": []
    },
    {
      "cell_type": "code",
      "source": [
        "predicted_price = sc.inverse_transform(y_pred)"
      ],
      "metadata": {
        "id": "07fROYhudb2k"
      },
      "execution_count": null,
      "outputs": []
    },
    {
      "cell_type": "code",
      "source": [
        "plt.plot(y_test, color = 'red', label = 'Actual Stock Price')\n",
        "plt.plot(predicted_price, color = 'green', label = 'Predicted Stock Price')\n",
        "plt.title('Google stock price prediction')\n",
        "plt.xlabel('Time')\n",
        "plt.ylabel('Stock Price')\n",
        "plt.legend()\n",
        "plt.show()"
      ],
      "metadata": {
        "id": "jwTsjI7mdfnn"
      },
      "execution_count": null,
      "outputs": []
    }
  ]
}