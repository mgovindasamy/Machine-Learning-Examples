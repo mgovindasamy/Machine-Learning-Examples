{
  "cells": [
    {
      "cell_type": "markdown",
      "metadata": {
        "id": "view-in-github",
        "colab_type": "text"
      },
      "source": [
        "<a href=\"https://colab.research.google.com/github/mgovindasamy/Machine-Learning-Examples/blob/master/JPY_stock_price.ipynb\" target=\"_parent\"><img src=\"https://colab.research.google.com/assets/colab-badge.svg\" alt=\"Open In Colab\"/></a>"
      ]
    },
    {
      "cell_type": "code",
      "execution_count": 17,
      "metadata": {
        "colab": {
          "base_uri": "https://localhost:8080/"
        },
        "id": "mfHXZ1wnAUyD",
        "outputId": "67e37f7f-8453-47b4-d49e-c12a65a68a1c"
      },
      "outputs": [
        {
          "output_type": "stream",
          "name": "stdout",
          "text": [
            "Requirement already satisfied: download in /usr/local/lib/python3.7/dist-packages (0.3.5)\n",
            "Requirement already satisfied: six in /usr/local/lib/python3.7/dist-packages (from download) (1.15.0)\n",
            "Requirement already satisfied: tqdm in /usr/local/lib/python3.7/dist-packages (from download) (4.64.0)\n",
            "Requirement already satisfied: requests in /usr/local/lib/python3.7/dist-packages (from download) (2.23.0)\n",
            "Requirement already satisfied: certifi>=2017.4.17 in /usr/local/lib/python3.7/dist-packages (from requests->download) (2021.10.8)\n",
            "Requirement already satisfied: chardet<4,>=3.0.2 in /usr/local/lib/python3.7/dist-packages (from requests->download) (3.0.4)\n",
            "Requirement already satisfied: idna<3,>=2.5 in /usr/local/lib/python3.7/dist-packages (from requests->download) (2.10)\n",
            "Requirement already satisfied: urllib3!=1.25.0,!=1.25.1,<1.26,>=1.21.1 in /usr/local/lib/python3.7/dist-packages (from requests->download) (1.24.3)\n",
            "Requirement already satisfied: kaggle in /usr/local/lib/python3.7/dist-packages (1.5.12)\n",
            "Requirement already satisfied: certifi in /usr/local/lib/python3.7/dist-packages (from kaggle) (2021.10.8)\n",
            "Requirement already satisfied: urllib3 in /usr/local/lib/python3.7/dist-packages (from kaggle) (1.24.3)\n",
            "Requirement already satisfied: requests in /usr/local/lib/python3.7/dist-packages (from kaggle) (2.23.0)\n",
            "Requirement already satisfied: python-dateutil in /usr/local/lib/python3.7/dist-packages (from kaggle) (2.8.2)\n",
            "Requirement already satisfied: six>=1.10 in /usr/local/lib/python3.7/dist-packages (from kaggle) (1.15.0)\n",
            "Requirement already satisfied: python-slugify in /usr/local/lib/python3.7/dist-packages (from kaggle) (6.1.1)\n",
            "Requirement already satisfied: tqdm in /usr/local/lib/python3.7/dist-packages (from kaggle) (4.64.0)\n",
            "Requirement already satisfied: text-unidecode>=1.3 in /usr/local/lib/python3.7/dist-packages (from python-slugify->kaggle) (1.3)\n",
            "Requirement already satisfied: chardet<4,>=3.0.2 in /usr/local/lib/python3.7/dist-packages (from requests->kaggle) (3.0.4)\n",
            "Requirement already satisfied: idna<3,>=2.5 in /usr/local/lib/python3.7/dist-packages (from requests->kaggle) (2.10)\n",
            "mkdir: cannot create directory ‘/root/.kaggle’: File exists\n",
            "jpx-tokyo-stock-exchange-prediction.zip: Skipping, found more recently modified local copy (use --force to force download)\n"
          ]
        }
      ],
      "source": [
        "!pip install download\n",
        "!pip install kaggle\n",
        "!mkdir ~/.kaggle\n",
        "!cp kaggle.json ~/.kaggle/\n",
        "!chmod 600 ~/.kaggle/kaggle.json\n",
        "!kaggle competitions download -c jpx-tokyo-stock-exchange-prediction\n"
      ]
    },
    {
      "cell_type": "code",
      "source": [
        "import os\n",
        "os.environ['KAGGLE_CONFIG_DIR']=\"/content\"\n",
        "!unzip /content/jpx-tokyo-stock-exchange-prediction.zip "
      ],
      "metadata": {
        "colab": {
          "base_uri": "https://localhost:8080/"
        },
        "id": "mZOSWYYfL26f",
        "outputId": "e21a9136-f80f-43f3-c363-9b697333b134"
      },
      "execution_count": 22,
      "outputs": [
        {
          "output_type": "stream",
          "name": "stdout",
          "text": [
            "Archive:  /content/jpx-tokyo-stock-exchange-prediction.zip\n",
            "  inflating: data_specifications/options_spec.csv  \n",
            "  inflating: data_specifications/stock_fin_spec.csv  \n",
            "  inflating: data_specifications/stock_list_spec.csv  \n",
            "  inflating: data_specifications/stock_price_spec.csv  \n",
            "  inflating: data_specifications/trades_spec.csv  \n",
            "  inflating: example_test_files/financials.csv  \n",
            "  inflating: example_test_files/options.csv  \n",
            "  inflating: example_test_files/sample_submission.csv  \n",
            "  inflating: example_test_files/secondary_stock_prices.csv  \n",
            "  inflating: example_test_files/stock_prices.csv  \n",
            "  inflating: example_test_files/trades.csv  \n",
            "  inflating: jpx_tokyo_market_prediction/__init__.py  \n",
            "  inflating: jpx_tokyo_market_prediction/competition.cpython-37m-x86_64-linux-gnu.so  \n",
            "  inflating: stock_list.csv          \n",
            "  inflating: supplemental_files/financials.csv  \n",
            "  inflating: supplemental_files/options.csv  \n",
            "  inflating: supplemental_files/secondary_stock_prices.csv  \n",
            "  inflating: supplemental_files/stock_prices.csv  \n",
            "  inflating: supplemental_files/trades.csv  \n",
            "  inflating: train_files/financials.csv  \n",
            "  inflating: train_files/options.csv  \n",
            "  inflating: train_files/secondary_stock_prices.csv  \n",
            "  inflating: train_files/stock_prices.csv  \n",
            "  inflating: train_files/trades.csv  \n"
          ]
        }
      ]
    },
    {
      "cell_type": "code",
      "source": [
        "!cd /content"
      ],
      "metadata": {
        "id": "CWZmmcmnMrbo"
      },
      "execution_count": 23,
      "outputs": []
    },
    {
      "cell_type": "code",
      "source": [
        "!pwd\n",
        "!ls -ltr\n",
        "!cd jpx_tokyo_market_prediction\n",
        "!ls -ltr /content/train_files/stock_prices.csv"
      ],
      "metadata": {
        "colab": {
          "base_uri": "https://localhost:8080/"
        },
        "id": "s6s2U4hhMtf4",
        "outputId": "5471eef2-4f99-415b-8021-3ec111990713"
      },
      "execution_count": 29,
      "outputs": [
        {
          "output_type": "stream",
          "name": "stdout",
          "text": [
            "/content\n",
            "total 230400\n",
            "-rw-r--r-- 1 root root    771903 Apr 18 20:31 stock_list.csv\n",
            "drwxr-xr-x 1 root root      4096 Apr 25 13:46 sample_data\n",
            "-rw-r--r-- 1 root root        68 Apr 27 22:27 kaggle.json\n",
            "-rw-r--r-- 1 root root 235122640 Apr 27 22:40 jpx-tokyo-stock-exchange-prediction.zip\n",
            "drwxr-xr-x 2 root root      4096 Apr 27 22:53 data_specifications\n",
            "drwxr-xr-x 2 root root      4096 Apr 27 22:53 example_test_files\n",
            "drwxr-xr-x 2 root root      4096 Apr 27 22:53 jpx_tokyo_market_prediction\n",
            "drwxr-xr-x 2 root root      4096 Apr 27 22:53 supplemental_files\n",
            "drwxr-xr-x 2 root root      4096 Apr 27 22:53 train_files\n",
            "-rw-r--r-- 1 root root 217602674 Apr 18 20:32 /content/train_files/stock_prices.csv\n"
          ]
        }
      ]
    },
    {
      "cell_type": "code",
      "source": [
        "import numpy as np \n",
        "import pandas as pd \n",
        "import matplotlib.pyplot as plt \n",
        "from sklearn.preprocessing import MinMaxScaler\n",
        "from keras.models import Sequential\n",
        "from keras.layers import Dense,LSTM,Dropout\n",
        "from download import download"
      ],
      "metadata": {
        "id": "Y0EeTi-5AYKj"
      },
      "execution_count": 25,
      "outputs": []
    },
    {
      "cell_type": "code",
      "execution_count": 30,
      "metadata": {
        "colab": {
          "base_uri": "https://localhost:8080/",
          "height": 357
        },
        "id": "0C3ZyguYAUyH",
        "outputId": "5a15b6b2-f575-4135-a9c8-9fa4759b2b44"
      },
      "outputs": [
        {
          "output_type": "execute_result",
          "data": {
            "text/plain": [
              "           RowId        Date  SecuritiesCode    Open    High     Low   Close  \\\n",
              "0  20170104_1301  2017-01-04            1301  2734.0  2755.0  2730.0  2742.0   \n",
              "1  20170104_1332  2017-01-04            1332   568.0   576.0   563.0   571.0   \n",
              "2  20170104_1333  2017-01-04            1333  3150.0  3210.0  3140.0  3210.0   \n",
              "3  20170104_1376  2017-01-04            1376  1510.0  1550.0  1510.0  1550.0   \n",
              "4  20170104_1377  2017-01-04            1377  3270.0  3350.0  3270.0  3330.0   \n",
              "\n",
              "    Volume  AdjustmentFactor  ExpectedDividend  SupervisionFlag    Target  \n",
              "0    31400               1.0               NaN            False  0.000730  \n",
              "1  2798500               1.0               NaN            False  0.012324  \n",
              "2   270800               1.0               NaN            False  0.006154  \n",
              "3    11300               1.0               NaN            False  0.011053  \n",
              "4   150800               1.0               NaN            False  0.003026  "
            ],
            "text/html": [
              "\n",
              "  <div id=\"df-6d703b9f-70a8-45fa-8642-978813d18c9e\">\n",
              "    <div class=\"colab-df-container\">\n",
              "      <div>\n",
              "<style scoped>\n",
              "    .dataframe tbody tr th:only-of-type {\n",
              "        vertical-align: middle;\n",
              "    }\n",
              "\n",
              "    .dataframe tbody tr th {\n",
              "        vertical-align: top;\n",
              "    }\n",
              "\n",
              "    .dataframe thead th {\n",
              "        text-align: right;\n",
              "    }\n",
              "</style>\n",
              "<table border=\"1\" class=\"dataframe\">\n",
              "  <thead>\n",
              "    <tr style=\"text-align: right;\">\n",
              "      <th></th>\n",
              "      <th>RowId</th>\n",
              "      <th>Date</th>\n",
              "      <th>SecuritiesCode</th>\n",
              "      <th>Open</th>\n",
              "      <th>High</th>\n",
              "      <th>Low</th>\n",
              "      <th>Close</th>\n",
              "      <th>Volume</th>\n",
              "      <th>AdjustmentFactor</th>\n",
              "      <th>ExpectedDividend</th>\n",
              "      <th>SupervisionFlag</th>\n",
              "      <th>Target</th>\n",
              "    </tr>\n",
              "  </thead>\n",
              "  <tbody>\n",
              "    <tr>\n",
              "      <th>0</th>\n",
              "      <td>20170104_1301</td>\n",
              "      <td>2017-01-04</td>\n",
              "      <td>1301</td>\n",
              "      <td>2734.0</td>\n",
              "      <td>2755.0</td>\n",
              "      <td>2730.0</td>\n",
              "      <td>2742.0</td>\n",
              "      <td>31400</td>\n",
              "      <td>1.0</td>\n",
              "      <td>NaN</td>\n",
              "      <td>False</td>\n",
              "      <td>0.000730</td>\n",
              "    </tr>\n",
              "    <tr>\n",
              "      <th>1</th>\n",
              "      <td>20170104_1332</td>\n",
              "      <td>2017-01-04</td>\n",
              "      <td>1332</td>\n",
              "      <td>568.0</td>\n",
              "      <td>576.0</td>\n",
              "      <td>563.0</td>\n",
              "      <td>571.0</td>\n",
              "      <td>2798500</td>\n",
              "      <td>1.0</td>\n",
              "      <td>NaN</td>\n",
              "      <td>False</td>\n",
              "      <td>0.012324</td>\n",
              "    </tr>\n",
              "    <tr>\n",
              "      <th>2</th>\n",
              "      <td>20170104_1333</td>\n",
              "      <td>2017-01-04</td>\n",
              "      <td>1333</td>\n",
              "      <td>3150.0</td>\n",
              "      <td>3210.0</td>\n",
              "      <td>3140.0</td>\n",
              "      <td>3210.0</td>\n",
              "      <td>270800</td>\n",
              "      <td>1.0</td>\n",
              "      <td>NaN</td>\n",
              "      <td>False</td>\n",
              "      <td>0.006154</td>\n",
              "    </tr>\n",
              "    <tr>\n",
              "      <th>3</th>\n",
              "      <td>20170104_1376</td>\n",
              "      <td>2017-01-04</td>\n",
              "      <td>1376</td>\n",
              "      <td>1510.0</td>\n",
              "      <td>1550.0</td>\n",
              "      <td>1510.0</td>\n",
              "      <td>1550.0</td>\n",
              "      <td>11300</td>\n",
              "      <td>1.0</td>\n",
              "      <td>NaN</td>\n",
              "      <td>False</td>\n",
              "      <td>0.011053</td>\n",
              "    </tr>\n",
              "    <tr>\n",
              "      <th>4</th>\n",
              "      <td>20170104_1377</td>\n",
              "      <td>2017-01-04</td>\n",
              "      <td>1377</td>\n",
              "      <td>3270.0</td>\n",
              "      <td>3350.0</td>\n",
              "      <td>3270.0</td>\n",
              "      <td>3330.0</td>\n",
              "      <td>150800</td>\n",
              "      <td>1.0</td>\n",
              "      <td>NaN</td>\n",
              "      <td>False</td>\n",
              "      <td>0.003026</td>\n",
              "    </tr>\n",
              "  </tbody>\n",
              "</table>\n",
              "</div>\n",
              "      <button class=\"colab-df-convert\" onclick=\"convertToInteractive('df-6d703b9f-70a8-45fa-8642-978813d18c9e')\"\n",
              "              title=\"Convert this dataframe to an interactive table.\"\n",
              "              style=\"display:none;\">\n",
              "        \n",
              "  <svg xmlns=\"http://www.w3.org/2000/svg\" height=\"24px\"viewBox=\"0 0 24 24\"\n",
              "       width=\"24px\">\n",
              "    <path d=\"M0 0h24v24H0V0z\" fill=\"none\"/>\n",
              "    <path d=\"M18.56 5.44l.94 2.06.94-2.06 2.06-.94-2.06-.94-.94-2.06-.94 2.06-2.06.94zm-11 1L8.5 8.5l.94-2.06 2.06-.94-2.06-.94L8.5 2.5l-.94 2.06-2.06.94zm10 10l.94 2.06.94-2.06 2.06-.94-2.06-.94-.94-2.06-.94 2.06-2.06.94z\"/><path d=\"M17.41 7.96l-1.37-1.37c-.4-.4-.92-.59-1.43-.59-.52 0-1.04.2-1.43.59L10.3 9.45l-7.72 7.72c-.78.78-.78 2.05 0 2.83L4 21.41c.39.39.9.59 1.41.59.51 0 1.02-.2 1.41-.59l7.78-7.78 2.81-2.81c.8-.78.8-2.07 0-2.86zM5.41 20L4 18.59l7.72-7.72 1.47 1.35L5.41 20z\"/>\n",
              "  </svg>\n",
              "      </button>\n",
              "      \n",
              "  <style>\n",
              "    .colab-df-container {\n",
              "      display:flex;\n",
              "      flex-wrap:wrap;\n",
              "      gap: 12px;\n",
              "    }\n",
              "\n",
              "    .colab-df-convert {\n",
              "      background-color: #E8F0FE;\n",
              "      border: none;\n",
              "      border-radius: 50%;\n",
              "      cursor: pointer;\n",
              "      display: none;\n",
              "      fill: #1967D2;\n",
              "      height: 32px;\n",
              "      padding: 0 0 0 0;\n",
              "      width: 32px;\n",
              "    }\n",
              "\n",
              "    .colab-df-convert:hover {\n",
              "      background-color: #E2EBFA;\n",
              "      box-shadow: 0px 1px 2px rgba(60, 64, 67, 0.3), 0px 1px 3px 1px rgba(60, 64, 67, 0.15);\n",
              "      fill: #174EA6;\n",
              "    }\n",
              "\n",
              "    [theme=dark] .colab-df-convert {\n",
              "      background-color: #3B4455;\n",
              "      fill: #D2E3FC;\n",
              "    }\n",
              "\n",
              "    [theme=dark] .colab-df-convert:hover {\n",
              "      background-color: #434B5C;\n",
              "      box-shadow: 0px 1px 3px 1px rgba(0, 0, 0, 0.15);\n",
              "      filter: drop-shadow(0px 1px 2px rgba(0, 0, 0, 0.3));\n",
              "      fill: #FFFFFF;\n",
              "    }\n",
              "  </style>\n",
              "\n",
              "      <script>\n",
              "        const buttonEl =\n",
              "          document.querySelector('#df-6d703b9f-70a8-45fa-8642-978813d18c9e button.colab-df-convert');\n",
              "        buttonEl.style.display =\n",
              "          google.colab.kernel.accessAllowed ? 'block' : 'none';\n",
              "\n",
              "        async function convertToInteractive(key) {\n",
              "          const element = document.querySelector('#df-6d703b9f-70a8-45fa-8642-978813d18c9e');\n",
              "          const dataTable =\n",
              "            await google.colab.kernel.invokeFunction('convertToInteractive',\n",
              "                                                     [key], {});\n",
              "          if (!dataTable) return;\n",
              "\n",
              "          const docLinkHtml = 'Like what you see? Visit the ' +\n",
              "            '<a target=\"_blank\" href=https://colab.research.google.com/notebooks/data_table.ipynb>data table notebook</a>'\n",
              "            + ' to learn more about interactive tables.';\n",
              "          element.innerHTML = '';\n",
              "          dataTable['output_type'] = 'display_data';\n",
              "          await google.colab.output.renderOutput(dataTable, element);\n",
              "          const docLink = document.createElement('div');\n",
              "          docLink.innerHTML = docLinkHtml;\n",
              "          element.appendChild(docLink);\n",
              "        }\n",
              "      </script>\n",
              "    </div>\n",
              "  </div>\n",
              "  "
            ]
          },
          "metadata": {},
          "execution_count": 30
        }
      ],
      "source": [
        "data = pd.read_csv('/content/train_files/stock_prices.csv')\n",
        "data.head()"
      ]
    },
    {
      "cell_type": "code",
      "source": [
        "from google.colab import drive\n",
        "drive.mount('/content/drive')"
      ],
      "metadata": {
        "colab": {
          "base_uri": "https://localhost:8080/"
        },
        "id": "nMC6sd52MiMo",
        "outputId": "14c201b0-0f10-4c7e-e85e-6009ddaec68d"
      },
      "execution_count": 31,
      "outputs": [
        {
          "output_type": "stream",
          "name": "stdout",
          "text": [
            "Mounted at /content/drive\n"
          ]
        }
      ]
    },
    {
      "cell_type": "code",
      "execution_count": 32,
      "metadata": {
        "colab": {
          "base_uri": "https://localhost:8080/"
        },
        "id": "QQPvQz_5AUyI",
        "outputId": "ab0f0718-ceae-4717-d4bb-efb5842f20c6"
      },
      "outputs": [
        {
          "output_type": "stream",
          "name": "stdout",
          "text": [
            "<class 'pandas.core.frame.DataFrame'>\n",
            "RangeIndex: 2332531 entries, 0 to 2332530\n",
            "Data columns (total 12 columns):\n",
            " #   Column            Dtype  \n",
            "---  ------            -----  \n",
            " 0   RowId             object \n",
            " 1   Date              object \n",
            " 2   SecuritiesCode    int64  \n",
            " 3   Open              float64\n",
            " 4   High              float64\n",
            " 5   Low               float64\n",
            " 6   Close             float64\n",
            " 7   Volume            int64  \n",
            " 8   AdjustmentFactor  float64\n",
            " 9   ExpectedDividend  float64\n",
            " 10  SupervisionFlag   bool   \n",
            " 11  Target            float64\n",
            "dtypes: bool(1), float64(7), int64(2), object(2)\n",
            "memory usage: 198.0+ MB\n"
          ]
        }
      ],
      "source": [
        "data.info()"
      ]
    },
    {
      "cell_type": "code",
      "execution_count": 33,
      "metadata": {
        "id": "j_N_oAwLAUyJ"
      },
      "outputs": [],
      "source": [
        "data[\"Close\"]=pd.to_numeric(data.Close,errors='coerce')\n",
        "data = data.dropna()\n",
        "trainData = data.iloc[:,4:5].values"
      ]
    },
    {
      "cell_type": "code",
      "execution_count": 34,
      "metadata": {
        "colab": {
          "base_uri": "https://localhost:8080/"
        },
        "id": "nj7ZJwvDAUyK",
        "outputId": "916972d5-4eb9-498f-aa7b-e5a3542f3dd0"
      },
      "outputs": [
        {
          "output_type": "stream",
          "name": "stdout",
          "text": [
            "<class 'pandas.core.frame.DataFrame'>\n",
            "Int64Index: 18841 entries, 13269 to 2320489\n",
            "Data columns (total 12 columns):\n",
            " #   Column            Non-Null Count  Dtype  \n",
            "---  ------            --------------  -----  \n",
            " 0   RowId             18841 non-null  object \n",
            " 1   Date              18841 non-null  object \n",
            " 2   SecuritiesCode    18841 non-null  int64  \n",
            " 3   Open              18841 non-null  float64\n",
            " 4   High              18841 non-null  float64\n",
            " 5   Low               18841 non-null  float64\n",
            " 6   Close             18841 non-null  float64\n",
            " 7   Volume            18841 non-null  int64  \n",
            " 8   AdjustmentFactor  18841 non-null  float64\n",
            " 9   ExpectedDividend  18841 non-null  float64\n",
            " 10  SupervisionFlag   18841 non-null  bool   \n",
            " 11  Target            18841 non-null  float64\n",
            "dtypes: bool(1), float64(7), int64(2), object(2)\n",
            "memory usage: 1.7+ MB\n"
          ]
        }
      ],
      "source": [
        "data.info()"
      ]
    },
    {
      "cell_type": "code",
      "execution_count": 35,
      "metadata": {
        "colab": {
          "base_uri": "https://localhost:8080/"
        },
        "id": "ZxTHEZroAUyK",
        "outputId": "cda9b2a7-757b-409a-cc05-336f35526765"
      },
      "outputs": [
        {
          "output_type": "execute_result",
          "data": {
            "text/plain": [
              "(18841, 1)"
            ]
          },
          "metadata": {},
          "execution_count": 35
        }
      ],
      "source": [
        "sc = MinMaxScaler(feature_range=(0,1))\n",
        "trainData = sc.fit_transform(trainData)\n",
        "trainData.shape"
      ]
    },
    {
      "cell_type": "code",
      "execution_count": 36,
      "metadata": {
        "id": "Q7zo37TGAUyL"
      },
      "outputs": [],
      "source": [
        "X_train = []\n",
        "y_train = []\n",
        "\n",
        "for i in range (60,1149): #60 : timestep // 1149 : length of the data\n",
        "    X_train.append(trainData[i-60:i,0]) \n",
        "    y_train.append(trainData[i,0])\n",
        "\n",
        "X_train,y_train = np.array(X_train),np.array(y_train)"
      ]
    },
    {
      "cell_type": "code",
      "execution_count": 37,
      "metadata": {
        "colab": {
          "base_uri": "https://localhost:8080/"
        },
        "id": "htqfWlS6AUyL",
        "outputId": "a0814530-41f7-4c45-c2f0-e0d4f1aea1f6"
      },
      "outputs": [
        {
          "output_type": "execute_result",
          "data": {
            "text/plain": [
              "(1089, 60, 1)"
            ]
          },
          "metadata": {},
          "execution_count": 37
        }
      ],
      "source": [
        "X_train = np.reshape(X_train,(X_train.shape[0],X_train.shape[1],1)) #adding the batch_size axis\n",
        "X_train.shape"
      ]
    },
    {
      "cell_type": "code",
      "execution_count": 38,
      "metadata": {
        "id": "VXscz0_8AUyM"
      },
      "outputs": [],
      "source": [
        "model = Sequential()\n",
        "\n",
        "model.add(LSTM(units=100, return_sequences = True, input_shape =(X_train.shape[1],1)))\n",
        "model.add(Dropout(0.2))\n",
        "\n",
        "model.add(LSTM(units=100, return_sequences = True))\n",
        "model.add(Dropout(0.2))\n",
        "\n",
        "model.add(LSTM(units=100, return_sequences = True))\n",
        "model.add(Dropout(0.2))\n",
        "\n",
        "model.add(LSTM(units=100, return_sequences = False))\n",
        "model.add(Dropout(0.2))\n",
        "\n",
        "model.add(Dense(units =1))\n",
        "model.compile(optimizer='adam',loss=\"mean_squared_error\")"
      ]
    },
    {
      "cell_type": "code",
      "execution_count": 39,
      "metadata": {
        "colab": {
          "base_uri": "https://localhost:8080/"
        },
        "id": "sQy7q9ubAUyN",
        "outputId": "b63cb668-e0af-499f-9d41-8398fd2a35ed"
      },
      "outputs": [
        {
          "output_type": "stream",
          "name": "stdout",
          "text": [
            "Epoch 1/20\n",
            "35/35 - 17s - loss: 8.0024e-04 - 17s/epoch - 476ms/step\n",
            "Epoch 2/20\n",
            "35/35 - 7s - loss: 7.5128e-04 - 7s/epoch - 208ms/step\n",
            "Epoch 3/20\n",
            "35/35 - 7s - loss: 7.6334e-04 - 7s/epoch - 208ms/step\n",
            "Epoch 4/20\n",
            "35/35 - 7s - loss: 7.6964e-04 - 7s/epoch - 205ms/step\n",
            "Epoch 5/20\n",
            "35/35 - 7s - loss: 7.4508e-04 - 7s/epoch - 211ms/step\n",
            "Epoch 6/20\n",
            "35/35 - 7s - loss: 7.6880e-04 - 7s/epoch - 207ms/step\n",
            "Epoch 7/20\n",
            "35/35 - 7s - loss: 7.6146e-04 - 7s/epoch - 207ms/step\n",
            "Epoch 8/20\n",
            "35/35 - 7s - loss: 7.5204e-04 - 7s/epoch - 205ms/step\n",
            "Epoch 9/20\n",
            "35/35 - 9s - loss: 7.5097e-04 - 9s/epoch - 254ms/step\n",
            "Epoch 10/20\n",
            "35/35 - 7s - loss: 7.6013e-04 - 7s/epoch - 212ms/step\n",
            "Epoch 11/20\n",
            "35/35 - 7s - loss: 7.5763e-04 - 7s/epoch - 213ms/step\n",
            "Epoch 12/20\n",
            "35/35 - 7s - loss: 7.3863e-04 - 7s/epoch - 204ms/step\n",
            "Epoch 13/20\n",
            "35/35 - 7s - loss: 7.4909e-04 - 7s/epoch - 209ms/step\n",
            "Epoch 14/20\n",
            "35/35 - 7s - loss: 7.5091e-04 - 7s/epoch - 209ms/step\n",
            "Epoch 15/20\n",
            "35/35 - 7s - loss: 7.3961e-04 - 7s/epoch - 211ms/step\n",
            "Epoch 16/20\n",
            "35/35 - 8s - loss: 7.4843e-04 - 8s/epoch - 215ms/step\n",
            "Epoch 17/20\n",
            "35/35 - 7s - loss: 7.5201e-04 - 7s/epoch - 212ms/step\n",
            "Epoch 18/20\n",
            "35/35 - 7s - loss: 7.3644e-04 - 7s/epoch - 206ms/step\n",
            "Epoch 19/20\n",
            "35/35 - 7s - loss: 7.4086e-04 - 7s/epoch - 209ms/step\n",
            "Epoch 20/20\n",
            "35/35 - 7s - loss: 7.3218e-04 - 7s/epoch - 205ms/step\n"
          ]
        }
      ],
      "source": [
        "hist = model.fit(X_train, y_train, epochs = 20, batch_size = 32, verbose=2)"
      ]
    },
    {
      "cell_type": "code",
      "execution_count": 48,
      "metadata": {
        "colab": {
          "base_uri": "https://localhost:8080/",
          "height": 295
        },
        "id": "Hirt_CvtAUyR",
        "outputId": "3ce05e25-0629-44c7-d476-34958a0f42b6"
      },
      "outputs": [
        {
          "output_type": "display_data",
          "data": {
            "text/plain": [
              "<Figure size 432x288 with 1 Axes>"
            ],
            "image/png": "[encoded data removed]"
          },
          "metadata": {
            "needs_background": "light"
          }
        }
      ],
      "source": [
        "plt.plot(hist.history['loss'])\n",
        "plt.title('Training model loss')\n",
        "plt.ylabel('loss')\n",
        "plt.xlabel('epoch')\n",
        "plt.legend(['train'], loc='upper left')\n",
        "plt.show()"
      ]
    },
    {
      "cell_type": "code",
      "execution_count": 60,
      "metadata": {
        "colab": {
          "base_uri": "https://localhost:8080/"
        },
        "id": "B2P8uSRyAUyS",
        "outputId": "0ad5238c-9f0e-4a3c-ab4e-b5dc49a4ba0f"
      },
      "outputs": [
        {
          "output_type": "execute_result",
          "data": {
            "text/plain": [
              "(3940, 60, 1)"
            ]
          },
          "metadata": {},
          "execution_count": 60
        }
      ],
      "source": [
        "testData = pd.read_csv('/content/example_test_files/stock_prices.csv')\n",
        "testData[\"Close\"]=pd.to_numeric(testData.Close,errors='coerce')\n",
        "#testData = testData.dropna()\n",
        "testData = testData.iloc[:,4:5]\n",
        "y_test = testData.iloc[60:,0:].values \n",
        "testData.head()\n",
        "#input array for the model\n",
        "inputClosing = testData.iloc[:,0:].values \n",
        "inputClosing_scaled = sc.transform(inputClosing)\n",
        "inputClosing_scaled.shape\n",
        "X_test = []\n",
        "length = len(testData)\n",
        "testData.shape\n",
        "timestep = 60\n",
        "for i in range(timestep,length):  \n",
        "    X_test.append(inputClosing[i-timestep:i,0])\n",
        "X_test = np.array(X_test)\n",
        "X_test = np.reshape(X_test,(X_test.shape[0],X_test.shape[1],1))\n",
        "X_test.shape\n",
        "\n",
        "\n"
      ]
    },
    {
      "cell_type": "code",
      "execution_count": 61,
      "metadata": {
        "colab": {
          "base_uri": "https://localhost:8080/"
        },
        "id": "9MAPpeJhAUyT",
        "outputId": "473a050c-58c1-47f6-9f37-a8f464956f36"
      },
      "outputs": [
        {
          "output_type": "execute_result",
          "data": {
            "text/plain": [
              "array([[       nan],\n",
              "       [       nan],\n",
              "       [       nan],\n",
              "       ...,\n",
              "       [0.11037409],\n",
              "       [0.11038097],\n",
              "       [0.11036565]], dtype=float32)"
            ]
          },
          "metadata": {},
          "execution_count": 61
        }
      ],
      "source": [
        "y_pred = model.predict(X_test)\n",
        "y_pred"
      ]
    },
    {
      "cell_type": "code",
      "execution_count": 62,
      "metadata": {
        "id": "MapzmPFJAUyT"
      },
      "outputs": [],
      "source": [
        "predicted_price = sc.inverse_transform(y_pred)"
      ]
    },
    {
      "cell_type": "code",
      "source": [
        ""
      ],
      "metadata": {
        "id": "gcK7fXKMTwhB"
      },
      "execution_count": null,
      "outputs": []
    },
    {
      "cell_type": "code",
      "execution_count": 63,
      "metadata": {
        "colab": {
          "base_uri": "https://localhost:8080/",
          "height": 295
        },
        "id": "Q4sXvY2OAUyT",
        "outputId": "342d5bfb-28a8-461d-c4bd-a000866e8f3b"
      },
      "outputs": [
        {
          "output_type": "display_data",
          "data": {
            "text/plain": [
              "<Figure size 432x288 with 1 Axes>"
            ],
            "image/png": "[encoded data removed]"
          },
          "metadata": {
            "needs_background": "light"
          }
        }
      ],
      "source": [
        "plt.plot(y_test, color = 'red', label = 'Actual Stock Price')\n",
        "plt.plot(predicted_price, color = 'green', label = 'Predicted Stock Price')\n",
        "plt.title('Google stock price prediction')\n",
        "plt.xlabel('Time')\n",
        "plt.ylabel('Stock Price')\n",
        "plt.legend()\n",
        "plt.show()"
      ]
    },
    {
      "cell_type": "code",
      "execution_count": null,
      "metadata": {
        "id": "4DN0S7dVAUyU"
      },
      "outputs": [],
      "source": [
        ""
      ]
    }
  ],
  "metadata": {
    "kernelspec": {
      "display_name": "Python 3",
      "language": "python",
      "name": "python3"
    },
    "language_info": {
      "codemirror_mode": {
        "name": "ipython",
        "version": 3
      },
      "file_extension": ".py",
      "mimetype": "text/x-python",
      "name": "python",
      "nbconvert_exporter": "python",
      "pygments_lexer": "ipython3",
      "version": "3.7.6"
    },
    "colab": {
      "name": "Google stock price.ipynb",
      "provenance": [],
      "include_colab_link": true
    }
  },
  "nbformat": 4,
  "nbformat_minor": 0
}